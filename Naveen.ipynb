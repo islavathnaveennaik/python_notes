{
  "nbformat": 4,
  "nbformat_minor": 0,
  "metadata": {
    "colab": {
      "provenance": [],
      "authorship_tag": "ABX9TyPeCWzjnxoCpwgsLsosQyE3",
      "include_colab_link": true
    },
    "kernelspec": {
      "name": "python3",
      "display_name": "Python 3"
    },
    "language_info": {
      "name": "python"
    }
  },
  "cells": [
    {
      "cell_type": "markdown",
      "metadata": {
        "id": "view-in-github",
        "colab_type": "text"
      },
      "source": [
        "<a href=\"https://colab.research.google.com/github/islavathnaveennaik/python_notes/blob/main/Naveen.ipynb\" target=\"_parent\"><img src=\"https://colab.research.google.com/assets/colab-badge.svg\" alt=\"Open In Colab\"/></a>"
      ]
    },
    {
      "cell_type": "markdown",
      "source": [
        "#module1\n"
      ],
      "metadata": {
        "id": "BrVXudisziCL"
      }
    },
    {
      "cell_type": "code",
      "source": [
        "\"\"\"what is python?\n",
        "emerging general-purpose programming languagehigh-level programming language object oriented programming language-->OOP’sDynamically typed programming languageinterpreted programming language\"\"\""
      ],
      "metadata": {
        "colab": {
          "base_uri": "https://localhost:8080/",
          "height": 53
        },
        "id": "h7fhYDww3wAT",
        "outputId": "b3199fe3-ad7d-42af-95aa-c093ab9ead0b"
      },
      "execution_count": null,
      "outputs": [
        {
          "output_type": "execute_result",
          "data": {
            "text/plain": [
              "'what is python?\\nemerging general-purpose programming languagehigh-level programming language object oriented programming language-->OOP’sDynamically typed programming languageinterpreted programming language'"
            ],
            "application/vnd.google.colaboratory.intrinsic+json": {
              "type": "string"
            }
          },
          "metadata": {},
          "execution_count": 2
        }
      ]
    },
    {
      "cell_type": "code",
      "source": [
        "\"\"\"what is an emerging general-purpose programming language?#The main purpose of python programming language is  to handle tons ofdata, & AI development#also we can web development, mobile application development#apart from above usage we can use it for daily general works    for ex:- ISRO scientist use python language for physics calculation                    for Tracking stocks                     image processing what is high-level programming language?How many levels of programming languages are there?There are 2 levels of programming languages\n",
        "Low-Level program language:- is also known as machine-friendly programminglanguage       --> each line of code is changing in to binary forms--> 1's & 0's                                      x = “hello world!”                                              1010101110101      --> more lines of code     ex:- c and c+\"\"\""
      ],
      "metadata": {
        "colab": {
          "base_uri": "https://localhost:8080/",
          "height": 105
        },
        "id": "xLiKSzH04UWQ",
        "outputId": "3999ae94-383f-4ce5-a00c-bf7f1226477a"
      },
      "execution_count": null,
      "outputs": [
        {
          "output_type": "execute_result",
          "data": {
            "text/plain": [
              "\"what is an emerging general-purpose programming language?#The main purpose of python programming language is  to handle tons ofdata, & AI development#also we can web development, mobile application development#apart from above usage we can use it for daily general works    for ex:- ISRO scientist use python language for physics calculation                    for Tracking stocks                     image processing what is high-level programming language?How many levels of programming languages are there?There are 2 levels of programming languages\\nLow-Level program language:- is also known as machine-friendly programminglanguage       --> each line of code is changing in to binary forms--> 1's & 0's                                      x = “hello world!”                                              1010101110101      --> more lines of code     ex:- c and c+\""
            ],
            "application/vnd.google.colaboratory.intrinsic+json": {
              "type": "string"
            }
          },
          "metadata": {},
          "execution_count": 3
        }
      ]
    },
    {
      "cell_type": "code",
      "source": [
        "\"\"\"Higl-level programming language:-  is also known as Human friendly programming     language, so you can read the code like the English language      -->the code is not changing in to binary form      --> less lines of code in python\n",
        "\n",
        "1.\n",
        "ex:- python and java\"\"\""
      ],
      "metadata": {
        "colab": {
          "base_uri": "https://localhost:8080/",
          "height": 53
        },
        "id": "SOOKFtQy7GO4",
        "outputId": "2ae87336-e687-4b4a-bf53-90119e2adce0"
      },
      "execution_count": null,
      "outputs": [
        {
          "output_type": "execute_result",
          "data": {
            "text/plain": [
              "'Higl-level programming language:-  is also known as Human friendly programming     language, so you can read the code like the English language      -->the code is not changing in to binary form      --> less lines of code in python  \\n\\n1.\\nex:- python and java'"
            ],
            "application/vnd.google.colaboratory.intrinsic+json": {
              "type": "string"
            }
          },
          "metadata": {},
          "execution_count": 5
        }
      ]
    },
    {
      "cell_type": "code",
      "source": [
        "\"\"\"what is object oriented programming language-->OOP’seach line of code is having its own “identity, attributes, methods of interactions”,#how can you define an object?\n",
        "object  --> python    x = 10\n",
        "identity\n",
        "programming language\n",
        "x = 10\n",
        "properties/Attributes\n",
        "genral purpose\n",
        "HL\n",
        "Dynamically typed\n",
        "interpreted\n",
        "it is whole number withoutdecimal points\n",
        "Methods of interaction\n",
        "environment-->IDE’s\n",
        "Integreated development environment\n",
        "Google colab\n",
        "1.\n",
        "Pycharm\n",
        "2.\n",
        "jupyter notebook\n",
        "3.\n",
        "VS\n",
        "4.\n",
        "class     <sofware programming languages>   ,<int>\n",
        "is the objects are the real world entities or class is the real world entityclass:- category of an object or  blue print the objectobject:- instance of class\"\"\""
      ],
      "metadata": {
        "colab": {
          "base_uri": "https://localhost:8080/",
          "height": 88
        },
        "id": "ZTaFSa6G7cgE",
        "outputId": "93d14219-8a83-44a6-cdea-31336dc393ed"
      },
      "execution_count": null,
      "outputs": [
        {
          "output_type": "execute_result",
          "data": {
            "text/plain": [
              "'what is object oriented programming language-->OOP’seach line of code is having its own “identity, attributes, methods of interactions”,#how can you define an object?\\nobject  --> python    x = 10\\nidentity\\nprogramming language\\nx = 10\\nproperties/Attributes\\ngenral purpose\\nHL\\nDynamically typed \\ninterpreted\\nit is whole number withoutdecimal points\\nMethods of interaction\\nenvironment-->IDE’s\\nIntegreated development environment\\nGoogle colab\\n1.\\nPycharm\\n2.\\njupyter notebook\\n3.\\nVS\\n4.\\nclass     <sofware programming languages>   ,<int>\\nis the objects are the real world entities or class is the real world entityclass:- category of an object or  blue print the objectobject:- instance of class'"
            ],
            "application/vnd.google.colaboratory.intrinsic+json": {
              "type": "string"
            }
          },
          "metadata": {},
          "execution_count": 6
        }
      ]
    },
    {
      "cell_type": "code",
      "source": [
        "\"\"\"what is a Dynamically typed programming language?#How many types of programming languages ?#there 2 types\n",
        "statically typed programming language\n",
        "1.\n",
        " Dynamically typed programming language\n",
        "2.\n",
        "1.statically typed programming language:- we need define the data type forthe variables . for ex:- int[a]=10                                              str[b]= “hello”2.Dynamically typed programming language:- we no need to define dtype forvariables                    ex:-  x = 10                                                x = “hello world”!python can update its dtype automatically\"\"\""
      ],
      "metadata": {
        "colab": {
          "base_uri": "https://localhost:8080/",
          "height": 88
        },
        "id": "t2LO9dXL7w6j",
        "outputId": "fbd5126c-b848-4c47-a129-1b0bb915d901"
      },
      "execution_count": null,
      "outputs": [
        {
          "output_type": "execute_result",
          "data": {
            "text/plain": [
              "'what is a Dynamically typed programming language?#How many types of programming languages ?#there 2 types \\nstatically typed programming language\\n1.\\n Dynamically typed programming language\\n2.\\n1.statically typed programming language:- we need define the data type forthe variables . for ex:- int[a]=10                                              str[b]= “hello”2.Dynamically typed programming language:- we no need to define dtype forvariables                    ex:-  x = 10                                                x = “hello world”!python can update its dtype automatically'"
            ],
            "application/vnd.google.colaboratory.intrinsic+json": {
              "type": "string"
            }
          },
          "metadata": {},
          "execution_count": 7
        }
      ]
    },
    {
      "cell_type": "code",
      "source": [
        "\"\"\"what is interpreted programming language?python can execute the code line by line , recent values can be taken asa updated values a = 10b = 20a = 30b = 20print(a+b)\n",
        "what is an IDE’s?integrated development environmentIDE’s are defined as “code compilers”, “codeexecutors”, “result given”, Interpretors\n",
        "commenting in  pythonwhat is comments and why we require comments?#comment is nothing but describing your line of code.#for better understanding purpose we use commentshow many types comments are there?#1.single line comment---> ##2.multiline line comment--> “““  ”””  or  ‘‘‘  ’’’ #Note when you are using double triple quotes enclose it with samequotes otherwise it throughs an error\n",
        "python is define most emerging, general purpose, high-level, Object-oriented, dynamically typed, interpreted programming language\"\"\""
      ],
      "metadata": {
        "colab": {
          "base_uri": "https://localhost:8080/",
          "height": 105
        },
        "id": "AQ1_hyKy7-ju",
        "outputId": "abf68475-f203-4d25-f00a-6588b063222f"
      },
      "execution_count": null,
      "outputs": [
        {
          "output_type": "execute_result",
          "data": {
            "text/plain": [
              "'what is interpreted programming language?python can execute the code line by line , recent values can be taken asa updated values a = 10b = 20a = 30b = 20print(a+b)\\nwhat is an IDE’s?integrated development environmentIDE’s are defined as “code compilers”, “codeexecutors”, “result given”, Interpretors\\ncommenting in  pythonwhat is comments and why we require comments?#comment is nothing but describing your line of code.#for better understanding purpose we use commentshow many types comments are there?#1.single line comment---> ##2.multiline line comment--> “““  ”””  or  ‘‘‘  ’’’ #Note when you are using double triple quotes enclose it with samequotes otherwise it throughs an error\\npython is define most emerging, general purpose, high-level, Object-oriented, dynamically typed, interpreted programming language'"
            ],
            "application/vnd.google.colaboratory.intrinsic+json": {
              "type": "string"
            }
          },
          "metadata": {},
          "execution_count": 8
        }
      ]
    },
    {
      "cell_type": "markdown",
      "source": [
        "#Numerical Dtype in python\n"
      ],
      "metadata": {
        "id": "rycolvIAE4bj"
      }
    },
    {
      "cell_type": "code",
      "source": [
        "#there are 3 types of numerical dtypes\n",
        "#1.integer---> int\n",
        "#a whole number either +ve or -ve without decimal point is known integer\n",
        "print(10)\n",
        "print(5)\n",
        "print(-5)\n",
        "#find the dtype for above\n",
        "#use \"type()\"\n",
        "print(type(10))\n",
        "print(type(-5))"
      ],
      "metadata": {
        "id": "9UTbDmOcFGn2",
        "colab": {
          "base_uri": "https://localhost:8080/"
        },
        "outputId": "f8741622-1aab-49a1-b1f4-8aa3ea62aba3"
      },
      "execution_count": null,
      "outputs": [
        {
          "output_type": "stream",
          "name": "stdout",
          "text": [
            "10\n",
            "5\n",
            "-5\n",
            "<class 'int'>\n",
            "<class 'int'>\n"
          ]
        }
      ]
    },
    {
      "cell_type": "code",
      "source": [
        "#flaot:- a whole number either +ve or -ve with decimal point is known float\n",
        "print(10.5)\n",
        "print(5.5)\n",
        "print(-6.5)\n",
        "print(type(10.5))\n",
        "print(type(-6.5))"
      ],
      "metadata": {
        "colab": {
          "base_uri": "https://localhost:8080/"
        },
        "id": "gNw6Gf5LnRHo",
        "outputId": "c57215d8-8d14-48b0-c0de-20970b73203f"
      },
      "execution_count": null,
      "outputs": [
        {
          "output_type": "stream",
          "name": "stdout",
          "text": [
            "10.5\n",
            "5.5\n",
            "-6.5\n",
            "<class 'float'>\n",
            "<class 'float'>\n"
          ]
        }
      ]
    },
    {
      "cell_type": "code",
      "source": [
        "#0-->int\n",
        "#0.0-->float\n",
        "#2.0-->float\n",
        "#.9--> float\n",
        "#-0--->float"
      ],
      "metadata": {
        "id": "m-mD0yZEoJUI"
      },
      "execution_count": null,
      "outputs": []
    },
    {
      "cell_type": "code",
      "source": [
        "#3.complex numnbers:- ---> complex\n",
        "#a real number withits imaginary part is known as complex number\n",
        "# 3x+4y = 6        ---->  2 + 4j\n",
        "#what is \"j\"?\n",
        "# j is known as \"iota\" the value of iota is root -1\n",
        "print(2 + 5j)\n",
        "print(type(2+5j))\n",
        "print(5j)\n",
        "print(type(5j))"
      ],
      "metadata": {
        "colab": {
          "base_uri": "https://localhost:8080/"
        },
        "id": "GBVm_OH5oZkS",
        "outputId": "a66668e9-636b-4aaa-9c1a-5697b663b3d0"
      },
      "execution_count": null,
      "outputs": [
        {
          "output_type": "stream",
          "name": "stdout",
          "text": [
            "(2+5j)\n",
            "<class 'complex'>\n",
            "5j\n",
            "<class 'complex'>\n"
          ]
        }
      ]
    },
    {
      "cell_type": "markdown",
      "source": [
        "#Arthmetic Operators\n"
      ],
      "metadata": {
        "id": "FAmU74JYo0Yh"
      }
    },
    {
      "cell_type": "code",
      "source": [
        "#There are 7 types of arthametic operators\n",
        "#1.addition---> +\n",
        "print(10 + 5)\n",
        "#2.substraction---> -\n",
        "print(10 - 5)\n",
        "#3.multiplication---> *\n",
        "print(10 * 5)\n",
        "#4.division---> /\n",
        "print(10 / 5)\n",
        "print(type(10 / 5))\n",
        "#why the default dtype for division is float?\n",
        "\"\"\"somnetimes in division operation we may get decimal values in co-efficient to\n",
        "avoid this confusion by default the dtype for division is float\"\"\""
      ],
      "metadata": {
        "colab": {
          "base_uri": "https://localhost:8080/",
          "height": 122
        },
        "id": "5qal-3qQpIYh",
        "outputId": "d954f80a-847d-4f75-c83e-ced0f83d503c"
      },
      "execution_count": null,
      "outputs": [
        {
          "output_type": "stream",
          "name": "stdout",
          "text": [
            "15\n",
            "5\n",
            "50\n",
            "2.0\n",
            "<class 'float'>\n"
          ]
        },
        {
          "output_type": "execute_result",
          "data": {
            "text/plain": [
              "'somnetimes in division operation we may get decimal values in co-efficient to\\navoid this confusion by default the dtype for division is float'"
            ],
            "application/vnd.google.colaboratory.intrinsic+json": {
              "type": "string"
            }
          },
          "metadata": {},
          "execution_count": 7
        }
      ]
    },
    {
      "cell_type": "code",
      "source": [
        "#5. Modulus---> %---> remainder of the division\n",
        "print(10 % 5)\n",
        "print(type(10 % 5))"
      ],
      "metadata": {
        "colab": {
          "base_uri": "https://localhost:8080/"
        },
        "id": "Fk8PbraIpeU9",
        "outputId": "64482d38-05bb-4b20-8cfd-98197b9a30c6"
      },
      "execution_count": null,
      "outputs": [
        {
          "output_type": "stream",
          "name": "stdout",
          "text": [
            "0\n",
            "<class 'int'>\n"
          ]
        }
      ]
    },
    {
      "cell_type": "code",
      "source": [
        "#6. exponential--> ** --> to the power off\n",
        "print(2 ** 3)\n",
        "print(type(2**3))\n",
        "print(1**5)\n",
        "print(3 ** 2)\n",
        "print(5**2)\n"
      ],
      "metadata": {
        "colab": {
          "base_uri": "https://localhost:8080/"
        },
        "id": "kgBAOL4apoxt",
        "outputId": "46664323-40a8-421b-f6bf-c1f6a2479d95"
      },
      "execution_count": null,
      "outputs": [
        {
          "output_type": "stream",
          "name": "stdout",
          "text": [
            "8\n",
            "<class 'int'>\n",
            "1\n",
            "9\n",
            "25\n"
          ]
        }
      ]
    },
    {
      "cell_type": "code",
      "source": [
        "#floor division:----> //\n",
        "#it ignores the values after the decimal point\n",
        "print(10 / 3)\n",
        "print(10 // 3)"
      ],
      "metadata": {
        "colab": {
          "base_uri": "https://localhost:8080/"
        },
        "id": "TM5IOsiRpvqJ",
        "outputId": "85fc6668-cb27-4cc2-dd84-0b6f70c727ce"
      },
      "execution_count": null,
      "outputs": [
        {
          "output_type": "stream",
          "name": "stdout",
          "text": [
            "3.3333333333333335\n",
            "3\n"
          ]
        }
      ]
    },
    {
      "cell_type": "code",
      "source": [
        "#what is a floor value?\n",
        "#The vale before the decimal point is known as \"floor value\"\n",
        "#what is a ceil value?\n",
        "#the next upcoimng value or nearest value to the decimal number is known as ceil value\n",
        "#Note:- if the decimal number is equal to >.5 or greater than .5 then it print ceil value"
      ],
      "metadata": {
        "id": "umdhJSyMp2Bj"
      },
      "execution_count": null,
      "outputs": []
    },
    {
      "cell_type": "markdown",
      "source": [
        "#Round()\n"
      ],
      "metadata": {
        "id": "NNluMOa_p59l"
      }
    },
    {
      "cell_type": "code",
      "source": [
        "#987.542312\n",
        "print(round(6.45))\n",
        "#NOte:- if the decimal value is <.5 then it print floor value"
      ],
      "metadata": {
        "colab": {
          "base_uri": "https://localhost:8080/"
        },
        "id": "NQSTp8RCqOoj",
        "outputId": "d928ff73-7a04-4715-f1e7-64eb969c553d"
      },
      "execution_count": null,
      "outputs": [
        {
          "output_type": "stream",
          "name": "stdout",
          "text": [
            "6\n"
          ]
        }
      ]
    },
    {
      "cell_type": "code",
      "source": [
        "#i want to print 1st 2 ndigits from below number\n",
        "#round(number,ndigits)\n",
        "print(round(987.542312,2))\n",
        "print(round(987.542312,3))\n",
        "print(round(7.25,-1))"
      ],
      "metadata": {
        "colab": {
          "base_uri": "https://localhost:8080/"
        },
        "id": "a9V-wMwZqUkz",
        "outputId": "c45d98ce-6aca-4c40-dd2e-272819510b10"
      },
      "execution_count": null,
      "outputs": [
        {
          "output_type": "stream",
          "name": "stdout",
          "text": [
            "987.54\n",
            "987.542\n",
            "10.0\n"
          ]
        }
      ]
    },
    {
      "cell_type": "code",
      "source": [
        "print(round(789.645749,4))   #65, #6"
      ],
      "metadata": {
        "colab": {
          "base_uri": "https://localhost:8080/"
        },
        "id": "4xPVF4uwqdt7",
        "outputId": "ead3481d-a6df-40a2-e254-25104a41e2b8"
      },
      "execution_count": null,
      "outputs": [
        {
          "output_type": "stream",
          "name": "stdout",
          "text": [
            "789.6457\n"
          ]
        }
      ]
    },
    {
      "cell_type": "code",
      "source": [
        "print(round(12355.98765,-5))\n",
        "#when you use the -1 ndigit it ignores the values after the decimal point\n",
        "print(round(12345.6789,-3))"
      ],
      "metadata": {
        "colab": {
          "base_uri": "https://localhost:8080/"
        },
        "id": "EkRw5I8pqjtR",
        "outputId": "309572fe-fa11-40e4-c213-dd0f3f4bf0d6"
      },
      "execution_count": null,
      "outputs": [
        {
          "output_type": "stream",
          "name": "stdout",
          "text": [
            "0.0\n",
            "12000.0\n"
          ]
        }
      ]
    },
    {
      "cell_type": "code",
      "source": [
        "print(round(67435.7854,-5))\n",
        "print(round(-12567.987, -3)) #-13000\n",
        "print(round(-089.987,-1))"
      ],
      "metadata": {
        "colab": {
          "base_uri": "https://localhost:8080/"
        },
        "id": "ra_uWAeVqrLq",
        "outputId": "49072805-90a4-411f-e61c-8d0996d3c2f6"
      },
      "execution_count": null,
      "outputs": [
        {
          "output_type": "stream",
          "name": "stdout",
          "text": [
            "100000.0\n",
            "-13000.0\n",
            "-90.0\n"
          ]
        }
      ]
    },
    {
      "cell_type": "markdown",
      "source": [
        "#Variables\n"
      ],
      "metadata": {
        "id": "XAqsiJRjq6xU"
      }
    },
    {
      "cell_type": "code",
      "source": [
        "#what is varaibles?\n",
        "#varaible is a container where we can store our value data or information and reuse it\n",
        "#how can we create a varaible?\n",
        "\"\"\"let the father age is x and\n",
        "son age is half of father age\n",
        "find the son age x/2\"\"\"\n",
        "#How can we access the information from the varaible?\n",
        "#by using print() we can display data storing the varaible\n",
        "#take two varaibles and apply all the arthamatic operations?\n",
        "a = 10\n",
        "b = 20\n",
        "print(a+b)\n",
        "print(a-b)\n",
        "print(a*b)\n",
        "print(b/a)\n",
        "print(b%a)\n",
        "print(b**a)\n",
        "print(b//a)"
      ],
      "metadata": {
        "colab": {
          "base_uri": "https://localhost:8080/"
        },
        "id": "x2s7ftOHrDwH",
        "outputId": "813be4b6-acf5-4a50-f2c0-2a861e7f2d3b"
      },
      "execution_count": null,
      "outputs": [
        {
          "output_type": "stream",
          "name": "stdout",
          "text": [
            "30\n",
            "-10\n",
            "200\n",
            "2.0\n",
            "0\n",
            "10240000000000\n",
            "2\n"
          ]
        }
      ]
    },
    {
      "cell_type": "code",
      "source": [
        "x = 40\n",
        "son = x/2\n",
        "print(son)"
      ],
      "metadata": {
        "colab": {
          "base_uri": "https://localhost:8080/"
        },
        "id": "j2Ep27hArbEo",
        "outputId": "76651f3e-9810-4632-af8b-810edd4f8598"
      },
      "execution_count": null,
      "outputs": [
        {
          "output_type": "stream",
          "name": "stdout",
          "text": [
            "20.0\n"
          ]
        }
      ]
    },
    {
      "cell_type": "markdown",
      "source": [
        "**Types of Errors**\n",
        "\n"
      ],
      "metadata": {
        "id": "9F7ohOF4J_yw"
      }
    },
    {
      "cell_type": "code",
      "source": [
        "#Types of erros\n",
        "#1. Syntax error:- Breaking the rules of programming language can rise an syntax error\n",
        "\"\"\" hi\n",
        "      i am writing a multiline comment \"\"\""
      ],
      "metadata": {
        "colab": {
          "base_uri": "https://localhost:8080/",
          "height": 36
        },
        "id": "jpaVWOJ-KH80",
        "outputId": "597f3844-a2a3-4b28-d201-8577f9bc90a4"
      },
      "execution_count": null,
      "outputs": [
        {
          "output_type": "execute_result",
          "data": {
            "text/plain": [
              "' hi\\n      i am writing a multiline comment '"
            ],
            "application/vnd.google.colaboratory.intrinsic+json": {
              "type": "string"
            }
          },
          "metadata": {},
          "execution_count": 1
        }
      ]
    },
    {
      "cell_type": "code",
      "source": [
        "#2.Logical error:- except syntax error all the errors comes under logical error\n",
        "#indentation error, attribute error, Name error, type error..etc\n"
      ],
      "metadata": {
        "id": "sqWi33Q6KnW7"
      },
      "execution_count": null,
      "outputs": []
    },
    {
      "cell_type": "markdown",
      "source": [
        "#Industrial rules followed to create a varaible\n"
      ],
      "metadata": {
        "id": "BdxLCLR-K1et"
      }
    },
    {
      "cell_type": "code",
      "source": [
        "#1.start creating the varibles by using alphabets\n",
        "a = \"hello wolrd!\"\n",
        "print(a)\n",
        "print(type(a))"
      ],
      "metadata": {
        "colab": {
          "base_uri": "https://localhost:8080/"
        },
        "id": "P6e8OOTJK9H7",
        "outputId": "26ee5a73-e042-47e3-e166-fe7d344395ed"
      },
      "execution_count": null,
      "outputs": [
        {
          "output_type": "stream",
          "name": "stdout",
          "text": [
            "hello wolrd!\n",
            "<class 'str'>\n"
          ]
        }
      ]
    },
    {
      "cell_type": "code",
      "source": [
        "#2. dont start creating the varible by using the numbers\n",
        "4 = \"hello\"\n",
        "print(4)"
      ],
      "metadata": {
        "colab": {
          "base_uri": "https://localhost:8080/",
          "height": 106
        },
        "id": "fWOYdmUCLLnU",
        "outputId": "9f38d28e-77a3-4861-8e90-7d7b3f41a42d"
      },
      "execution_count": null,
      "outputs": [
        {
          "output_type": "error",
          "ename": "SyntaxError",
          "evalue": "cannot assign to literal here. Maybe you meant '==' instead of '='? (<ipython-input-5-8f2766350a0d>, line 2)",
          "traceback": [
            "\u001b[0;36m  File \u001b[0;32m\"<ipython-input-5-8f2766350a0d>\"\u001b[0;36m, line \u001b[0;32m2\u001b[0m\n\u001b[0;31m    4 = \"hello\"\u001b[0m\n\u001b[0m    ^\u001b[0m\n\u001b[0;31mSyntaxError\u001b[0m\u001b[0;31m:\u001b[0m cannot assign to literal here. Maybe you meant '==' instead of '='?\n"
          ]
        }
      ]
    },
    {
      "cell_type": "code",
      "source": [
        "#3.if you follow rule 1 and 2 u can start creating varaible by alphabets inbetween you can use number\n",
        "son2age = 20\n",
        "print(son2age)"
      ],
      "metadata": {
        "colab": {
          "base_uri": "https://localhost:8080/"
        },
        "id": "ddVzKmK3LVit",
        "outputId": "fe35c62e-85ea-42a7-d434-3ff0730c61fb"
      },
      "execution_count": null,
      "outputs": [
        {
          "output_type": "stream",
          "name": "stdout",
          "text": [
            "20\n"
          ]
        }
      ]
    },
    {
      "cell_type": "code",
      "source": [
        "#4.we cannot use special characters in the varaibles\n",
        "# @$%^&*-\n",
        "son@age = 40\n",
        "print(son@age)"
      ],
      "metadata": {
        "colab": {
          "base_uri": "https://localhost:8080/",
          "height": 106
        },
        "id": "VrpSWaccLg1M",
        "outputId": "3cce3a7e-73d2-4285-ef83-e9b867f18b1b"
      },
      "execution_count": null,
      "outputs": [
        {
          "output_type": "error",
          "ename": "SyntaxError",
          "evalue": "cannot assign to expression here. Maybe you meant '==' instead of '='? (<ipython-input-7-513cd5a42e2c>, line 3)",
          "traceback": [
            "\u001b[0;36m  File \u001b[0;32m\"<ipython-input-7-513cd5a42e2c>\"\u001b[0;36m, line \u001b[0;32m3\u001b[0m\n\u001b[0;31m    son@age = 40\u001b[0m\n\u001b[0m    ^\u001b[0m\n\u001b[0;31mSyntaxError\u001b[0m\u001b[0;31m:\u001b[0m cannot assign to expression here. Maybe you meant '==' instead of '='?\n"
          ]
        }
      ]
    },
    {
      "cell_type": "code",
      "source": [
        "#5.we cannot use space in between varaibles\n",
        "a b = 10 20\n",
        "print(a b)"
      ],
      "metadata": {
        "colab": {
          "base_uri": "https://localhost:8080/",
          "height": 106
        },
        "id": "OjpN8SP_Lo_w",
        "outputId": "d10a40a0-97db-48c1-9879-ffa8c552ca0c"
      },
      "execution_count": null,
      "outputs": [
        {
          "output_type": "error",
          "ename": "SyntaxError",
          "evalue": "invalid syntax (<ipython-input-8-0a392f9192f1>, line 2)",
          "traceback": [
            "\u001b[0;36m  File \u001b[0;32m\"<ipython-input-8-0a392f9192f1>\"\u001b[0;36m, line \u001b[0;32m2\u001b[0m\n\u001b[0;31m    a b = 10 20\u001b[0m\n\u001b[0m      ^\u001b[0m\n\u001b[0;31mSyntaxError\u001b[0m\u001b[0;31m:\u001b[0m invalid syntax\n"
          ]
        }
      ]
    },
    {
      "cell_type": "code",
      "source": [
        "#6. we can use _ as a varaible\n",
        "son_age = 20\n",
        "print(son_age)\n",
        "_ = \"hello\"\n",
        "print(_)"
      ],
      "metadata": {
        "colab": {
          "base_uri": "https://localhost:8080/"
        },
        "id": "192WRX_vL2DN",
        "outputId": "d3d88d63-6bcc-4b53-e63c-e2d3f1f11ed4"
      },
      "execution_count": null,
      "outputs": [
        {
          "output_type": "stream",
          "name": "stdout",
          "text": [
            "20\n",
            "hello\n"
          ]
        }
      ]
    },
    {
      "cell_type": "markdown",
      "source": [
        "**smart ways of wrirng a varaible**\n"
      ],
      "metadata": {
        "id": "lZTcXLwUL6UA"
      }
    },
    {
      "cell_type": "code",
      "source": [
        "#1.assign multiple values to multiple varaibles and print it in a seprate line\n",
        "#for ex:- take 3 varaibles x,y,z\n",
        "x = 10\n",
        "y = 20\n",
        "z = 30\n",
        "print(x)\n",
        "print(y)\n",
        "print(z)"
      ],
      "metadata": {
        "colab": {
          "base_uri": "https://localhost:8080/"
        },
        "id": "WfxX_mRNMCIM",
        "outputId": "1d08f193-4457-4840-bb38-f104d419710c"
      },
      "execution_count": null,
      "outputs": [
        {
          "output_type": "stream",
          "name": "stdout",
          "text": [
            "10\n",
            "20\n",
            "30\n"
          ]
        }
      ]
    },
    {
      "cell_type": "code",
      "source": [
        "x,y,z = 10,20,30\n",
        "#use the \"sep\" keyword to print output in separate lines\n",
        "print(x,y,z,sep=\"\\n\")"
      ],
      "metadata": {
        "colab": {
          "base_uri": "https://localhost:8080/"
        },
        "id": "wIcOfUd-MM41",
        "outputId": "50fc4785-7bc9-45ea-a2eb-bb9958f9bff4"
      },
      "execution_count": null,
      "outputs": [
        {
          "output_type": "stream",
          "name": "stdout",
          "text": [
            "10\n",
            "20\n",
            "30\n"
          ]
        }
      ]
    },
    {
      "cell_type": "code",
      "source": [
        "#assign a single value to the multiple varaibles and print in separate line\n",
        "#take 3 varaibles x,y,z and assign same values to it\n",
        "x = 10\n",
        "y = 10\n",
        "z = 10\n",
        "print(x,y,z,sep=\"\\n\")"
      ],
      "metadata": {
        "colab": {
          "base_uri": "https://localhost:8080/"
        },
        "id": "bHJrpZlrMV6V",
        "outputId": "a2c50807-2782-4954-de3c-eb4ade4c3bbb"
      },
      "execution_count": null,
      "outputs": [
        {
          "output_type": "stream",
          "name": "stdout",
          "text": [
            "10\n",
            "10\n",
            "10\n"
          ]
        }
      ]
    },
    {
      "cell_type": "code",
      "source": [
        "x=y=z= 10\n",
        "print(x,y,z,sep=\"\\n\")"
      ],
      "metadata": {
        "colab": {
          "base_uri": "https://localhost:8080/"
        },
        "id": "pLK_Yr47MdWU",
        "outputId": "e4eb13ea-70a6-44a1-951b-efca45ffbe49"
      },
      "execution_count": null,
      "outputs": [
        {
          "output_type": "stream",
          "name": "stdout",
          "text": [
            "10\n",
            "10\n",
            "10\n"
          ]
        }
      ]
    },
    {
      "cell_type": "code",
      "source": [
        "#what is a python?\n",
        "#python is an general puprose, high-level, dynamical typed, object oriented,interpreted program language"
      ],
      "metadata": {
        "id": "j4tiJuhRMwC0"
      },
      "execution_count": null,
      "outputs": []
    },
    {
      "cell_type": "code",
      "source": [
        "#prove that python is an dynamically typed prgramming language?\n",
        "#  str[a]  = \"hello world!\" , int(a) = 10--->statically typed programming language\n",
        "# a = \"hello wolrd\", a = 10\n",
        "#the python varaible can read the data automatically by itself\n",
        "s = \"hello world!\"\n",
        "print(s)\n",
        "print(type(s))\n",
        "h = 10\n",
        "print(type(h))"
      ],
      "metadata": {
        "colab": {
          "base_uri": "https://localhost:8080/"
        },
        "id": "70PUMwPVM3ek",
        "outputId": "a50cd78e-7a0d-47d7-afe5-e2716c0ae6df"
      },
      "execution_count": null,
      "outputs": [
        {
          "output_type": "stream",
          "name": "stdout",
          "text": [
            "hello world!\n",
            "<class 'str'>\n",
            "<class 'int'>\n"
          ]
        }
      ]
    },
    {
      "cell_type": "code",
      "source": [
        "#python is an interpreted programming language?\n",
        "#python can execute the code line by line\n",
        "a = 10\n",
        "b = 5\n",
        "a = 2\n",
        "b = 3\n",
        "print(a*b)"
      ],
      "metadata": {
        "colab": {
          "base_uri": "https://localhost:8080/"
        },
        "id": "KuTU_gpSM3BI",
        "outputId": "a5ae9e44-5686-4874-fd80-63950ab2c470"
      },
      "execution_count": null,
      "outputs": [
        {
          "output_type": "stream",
          "name": "stdout",
          "text": [
            "6\n"
          ]
        }
      ]
    },
    {
      "cell_type": "code",
      "source": [
        "#python is an case sensitive programming language?\n",
        "h = \"hello\"\n",
        "print(h)"
      ],
      "metadata": {
        "colab": {
          "base_uri": "https://localhost:8080/"
        },
        "id": "_Nj4hCC-NIXo",
        "outputId": "9999c4af-0026-4e3e-8dc2-e8f80cd441c5"
      },
      "execution_count": null,
      "outputs": [
        {
          "output_type": "stream",
          "name": "stdout",
          "text": [
            "hello\n"
          ]
        }
      ]
    },
    {
      "cell_type": "markdown",
      "source": [
        "#input()\n"
      ],
      "metadata": {
        "id": "SQY0QKEtNVup"
      }
    },
    {
      "cell_type": "code",
      "source": [
        "#what is an input()?\n",
        "#it intakes any kind of information or data and reuse it\n",
        "a = input(\"enter your name: \")\n",
        "print(a)\n",
        "print(type(a))\n",
        "#the default data type for input() is string"
      ],
      "metadata": {
        "colab": {
          "base_uri": "https://localhost:8080/"
        },
        "id": "ob9RYQZUNgus",
        "outputId": "022c6bad-d385-4eea-acae-96bf6a0d9efc"
      },
      "execution_count": null,
      "outputs": [
        {
          "output_type": "stream",
          "name": "stdout",
          "text": [
            "enter your name: a\n",
            "a\n",
            "<class 'str'>\n"
          ]
        }
      ]
    },
    {
      "cell_type": "code",
      "source": [
        "#why the default data type for inpuit function is string?\n",
        "#The function has to be in such a way it can accept any kind of informatiom. so the string is collection multiple characters"
      ],
      "metadata": {
        "id": "yQ8XJLTaN13Z"
      },
      "execution_count": null,
      "outputs": []
    },
    {
      "cell_type": "code",
      "source": [
        "a = int(input(\"enter the number: \"))\n",
        "b = int(input(\"enter the number: \"))\n",
        "print(a+b)"
      ],
      "metadata": {
        "colab": {
          "base_uri": "https://localhost:8080/"
        },
        "id": "oyUytDJMOIR8",
        "outputId": "647092f5-8385-4064-a0e4-8e4d85ac9b20"
      },
      "execution_count": null,
      "outputs": [
        {
          "output_type": "stream",
          "name": "stdout",
          "text": [
            "enter the number: 9\n",
            "enter the number: 9\n",
            "18\n"
          ]
        }
      ]
    },
    {
      "cell_type": "code",
      "source": [
        "s=\"OpenAI\"\n",
        "print(s[1:6][-1::-2])"
      ],
      "metadata": {
        "colab": {
          "base_uri": "https://localhost:8080/"
        },
        "id": "IuHlVXrCmoWj",
        "outputId": "3432b053-6d70-42c8-ca01-e416b7dc5a64"
      },
      "execution_count": null,
      "outputs": [
        {
          "output_type": "stream",
          "name": "stdout",
          "text": [
            "Inp\n"
          ]
        }
      ]
    },
    {
      "cell_type": "code",
      "execution_count": null,
      "metadata": {
        "colab": {
          "base_uri": "https://localhost:8080/"
        },
        "id": "EAVD7tgQyuDi",
        "outputId": "f8c561cd-eede-41c2-d9fc-9a9c210e9ce8"
      },
      "outputs": [
        {
          "output_type": "stream",
          "name": "stdout",
          "text": [
            "hello world!\n"
          ]
        }
      ],
      "source": [
        "#print hello world program\n",
        "print(\"hello world!\")"
      ]
    },
    {
      "cell_type": "code",
      "source": [
        "#what is concatenation?\n",
        "print(\"hello\"+ \"team\")\n",
        "#adding 2 strings or 2 input() without defining the data isknown as concatenation"
      ],
      "metadata": {
        "colab": {
          "base_uri": "https://localhost:8080/"
        },
        "id": "u5slExJQAnnJ",
        "outputId": "e3958a4b-0aea-4e49-b953-fbfb20fc6406"
      },
      "execution_count": null,
      "outputs": [
        {
          "output_type": "stream",
          "name": "stdout",
          "text": [
            "helloteam\n"
          ]
        }
      ]
    },
    {
      "cell_type": "code",
      "source": [
        "a = int(input(\"enetr the number: \"))\n",
        "b = int(input(\"enter the number: \"))\n",
        "print(a+b)\n",
        "#Note:-  when we are dealing with integer or float mention the specific dtype infront input()"
      ],
      "metadata": {
        "colab": {
          "base_uri": "https://localhost:8080/"
        },
        "id": "o4erCEMbBOxK",
        "outputId": "66bb1025-d710-4076-fca2-527f85158fdf"
      },
      "execution_count": null,
      "outputs": [
        {
          "output_type": "stream",
          "name": "stdout",
          "text": [
            "enetr the number: 9\n",
            "enter the number: 9\n",
            "18\n"
          ]
        }
      ]
    },
    {
      "cell_type": "code",
      "source": [
        "#take 2 decimal input() apply all the arthametic operations?\n",
        "a = float(input(\"eneter the decimal: \"))\n",
        "b = float(input(\"enter decimal number: \"))"
      ],
      "metadata": {
        "colab": {
          "base_uri": "https://localhost:8080/"
        },
        "id": "iKYy-7pSBb3H",
        "outputId": "7e329b5e-4155-4106-b733-68bfc8942a7c"
      },
      "execution_count": null,
      "outputs": [
        {
          "name": "stdout",
          "output_type": "stream",
          "text": [
            "eneter the decimal: 9.9\n",
            "enter decimal number: 9.9\n"
          ]
        }
      ]
    },
    {
      "cell_type": "markdown",
      "source": [
        "**strings**\n"
      ],
      "metadata": {
        "id": "BKEYNBmdBt8E"
      }
    },
    {
      "cell_type": "code",
      "source": [
        "#what is strings?\n",
        "#string is a collection of multiple characters written inside the quotes\n",
        "#How can we declare a string?\n",
        "#we decalre strings in \" \" or ' '"
      ],
      "metadata": {
        "id": "Y9qu97Y_Bxz9"
      },
      "execution_count": null,
      "outputs": []
    },
    {
      "cell_type": "code",
      "source": [
        "#How many types of strings are there?\n",
        "#two types\n",
        "#single line string---> \" \" or ' '\n",
        "#multiline string---> \"\"\" \"\"\"double triple quotes  or single triple quotes ''' '''"
      ],
      "metadata": {
        "id": "Tp3yYlCxB8lE"
      },
      "execution_count": null,
      "outputs": []
    },
    {
      "cell_type": "code",
      "source": [
        "#print a single line string?\n",
        "print(\"hello world\")"
      ],
      "metadata": {
        "colab": {
          "base_uri": "https://localhost:8080/"
        },
        "id": "nbH0rpOLCBq3",
        "outputId": "1f5656a4-d371-448e-ef86-fd400c87d100"
      },
      "execution_count": null,
      "outputs": [
        {
          "output_type": "stream",
          "name": "stdout",
          "text": [
            "hello world\n"
          ]
        }
      ]
    },
    {
      "cell_type": "code",
      "source": [
        "print(\"\"\" Hi\n",
        "         Good Day!\n",
        "         i am writing a multiline string\"\"\")"
      ],
      "metadata": {
        "colab": {
          "base_uri": "https://localhost:8080/"
        },
        "id": "91BjjdefCV-v",
        "outputId": "80f51e3b-4ec2-4895-fe44-1d6a6b051898"
      },
      "execution_count": null,
      "outputs": [
        {
          "output_type": "stream",
          "name": "stdout",
          "text": [
            " Hi\n",
            "         Good Day!\n",
            "         i am writing a multiline string\n"
          ]
        }
      ]
    },
    {
      "cell_type": "code",
      "source": [
        "#string is a collection of multiple characters where each character can be accessible\n",
        "#string is ordered means characters in the string has sequence of index position numbers\n",
        "#How can we access the characeters from the string?\n",
        "#we can access by using \"indexing\" and slicing operators---> []"
      ],
      "metadata": {
        "id": "MQNIrw_4CdCz"
      },
      "execution_count": null,
      "outputs": []
    },
    {
      "cell_type": "code",
      "source": [
        "a = \"Hello World!\"\n",
        "#from the above string print the \"e\" ?\n",
        "#[start_index_number]\n",
        "# print(a[1])\n",
        "#print \"r\" from the above string?\n",
        "# print(a[8])\n",
        "#print the \"hello world!\" in separate line without using loops?\n",
        "print(a[0])\n",
        "print(a[1])\n",
        "print(a[2])\n",
        "print(a[3])\n",
        "print(a[4])\n",
        "print(a[5])\n",
        "print(a[6])"
      ],
      "metadata": {
        "colab": {
          "base_uri": "https://localhost:8080/"
        },
        "id": "Cnnmp_HICp7a",
        "outputId": "ed1fe52b-2c47-494c-a02a-1e3ea8c878e3"
      },
      "execution_count": null,
      "outputs": [
        {
          "output_type": "stream",
          "name": "stdout",
          "text": [
            "H\n",
            "e\n",
            "l\n",
            "l\n",
            "o\n",
            " \n",
            "W\n"
          ]
        }
      ]
    },
    {
      "cell_type": "code",
      "source": [
        "#access a range of characters [start:end_index_number]\n",
        "s = \"hello world!\"\n",
        "#llo wo\n",
        "print(s[2:7]) #end index can be n+1\n",
        "#why the 7th charcter is not printed?\n",
        "#because slicing can be stop  before the end index position number\n",
        "print(s[2:8])\n",
        "#from the above print the entire \"hello\"\n",
        "print(s[0:5])"
      ],
      "metadata": {
        "colab": {
          "base_uri": "https://localhost:8080/"
        },
        "id": "-R5JGIEnCzBP",
        "outputId": "842b7dd0-1bc0-4b7c-c22a-d9cbdd913699"
      },
      "execution_count": null,
      "outputs": [
        {
          "output_type": "stream",
          "name": "stdout",
          "text": [
            "llo w\n",
            "llo wo\n",
            "hello\n"
          ]
        }
      ]
    },
    {
      "cell_type": "code",
      "source": [
        "h = \"Hello World!\"\n",
        "#from above string print the even index of the data\n",
        "#[start:end:step]\n",
        "print(h[0:12:2])\n",
        "#print the odd index charcters from abover string\n",
        "print(h[1:12:2])"
      ],
      "metadata": {
        "colab": {
          "base_uri": "https://localhost:8080/"
        },
        "id": "UEcfvrPEDHTd",
        "outputId": "690ff1d2-642e-49cf-c622-1bf7076e9c5a"
      },
      "execution_count": null,
      "outputs": [
        {
          "output_type": "stream",
          "name": "stdout",
          "text": [
            "HloWrd\n",
            "el ol!\n"
          ]
        }
      ]
    },
    {
      "cell_type": "code",
      "source": [
        "a = \"\"\"Data is a collection of facts, numbers, words, observations, or other useful information\n",
        "that can be used for calculation, reasoning, or planning.\"\"\"\n",
        "#howmany character in above string\n",
        "#use len() given total number characters in string\n",
        "#length start from 1\n",
        "print(len(a))\n",
        "#find end index_number of the above string\n",
        "print(len(a)-1)\n",
        "print(a[146])"
      ],
      "metadata": {
        "colab": {
          "base_uri": "https://localhost:8080/",
          "height": 211
        },
        "id": "ErA5StbHDM2F",
        "outputId": "c1632bce-348f-418c-c02e-b9ac78ddab2d"
      },
      "execution_count": null,
      "outputs": [
        {
          "output_type": "stream",
          "name": "stdout",
          "text": [
            "146\n",
            "145\n"
          ]
        },
        {
          "output_type": "error",
          "ename": "IndexError",
          "evalue": "string index out of range",
          "traceback": [
            "\u001b[0;31m---------------------------------------------------------------------------\u001b[0m",
            "\u001b[0;31mIndexError\u001b[0m                                Traceback (most recent call last)",
            "\u001b[0;32m<ipython-input-12-1c950a5bc0dd>\u001b[0m in \u001b[0;36m<cell line: 9>\u001b[0;34m()\u001b[0m\n\u001b[1;32m      7\u001b[0m \u001b[0;31m#find end index_number of the above string\u001b[0m\u001b[0;34m\u001b[0m\u001b[0;34m\u001b[0m\u001b[0m\n\u001b[1;32m      8\u001b[0m \u001b[0mprint\u001b[0m\u001b[0;34m(\u001b[0m\u001b[0mlen\u001b[0m\u001b[0;34m(\u001b[0m\u001b[0ma\u001b[0m\u001b[0;34m)\u001b[0m\u001b[0;34m-\u001b[0m\u001b[0;36m1\u001b[0m\u001b[0;34m)\u001b[0m\u001b[0;34m\u001b[0m\u001b[0;34m\u001b[0m\u001b[0m\n\u001b[0;32m----> 9\u001b[0;31m \u001b[0mprint\u001b[0m\u001b[0;34m(\u001b[0m\u001b[0ma\u001b[0m\u001b[0;34m[\u001b[0m\u001b[0;36m146\u001b[0m\u001b[0;34m]\u001b[0m\u001b[0;34m)\u001b[0m\u001b[0;34m\u001b[0m\u001b[0;34m\u001b[0m\u001b[0m\n\u001b[0m",
            "\u001b[0;31mIndexError\u001b[0m: string index out of range"
          ]
        }
      ]
    },
    {
      "cell_type": "markdown",
      "source": [
        "#Negative indexing:- where we can access the items in reverse direction\n",
        "\n",
        "-->-ve indexing starts from -1\n"
      ],
      "metadata": {
        "id": "o19KzHeJDook"
      }
    },
    {
      "cell_type": "code",
      "source": [
        "h = \"Hello Good afterNoon\"\n",
        "#[start]\n",
        "print(h[-1])"
      ],
      "metadata": {
        "colab": {
          "base_uri": "https://localhost:8080/"
        },
        "id": "0Su3bVoyDvDw",
        "outputId": "69f52365-1ffe-42b8-9dbb-7b2787f907c2"
      },
      "execution_count": null,
      "outputs": [
        {
          "output_type": "stream",
          "name": "stdout",
          "text": [
            "n\n"
          ]
        }
      ]
    },
    {
      "cell_type": "code",
      "source": [
        "#can we print range of characters in reverse direction?\n",
        "#No\n",
        "print(h[-1:-7])\n",
        "#By default slicing direction is from left to right\n",
        "#if you want to go in reverse direction in step we need to mention -1\n",
        "print(h[-1:-7:-1])"
      ],
      "metadata": {
        "colab": {
          "base_uri": "https://localhost:8080/"
        },
        "id": "gF0JnBTUEAZS",
        "outputId": "315936db-ddb6-478a-c03e-02d36545ec30"
      },
      "execution_count": null,
      "outputs": [
        {
          "output_type": "stream",
          "name": "stdout",
          "text": [
            "\n",
            "nooNre\n"
          ]
        }
      ]
    },
    {
      "cell_type": "code",
      "source": [
        "u = \"hello\"\n",
        "#reverse the above string\n",
        "print(u[-1:-6:-1])"
      ],
      "metadata": {
        "colab": {
          "base_uri": "https://localhost:8080/"
        },
        "id": "iazyveqfEQat",
        "outputId": "6dcdaf8b-311c-4ab4-da8d-f1ff3354ab61"
      },
      "execution_count": null,
      "outputs": [
        {
          "output_type": "stream",
          "name": "stdout",
          "text": [
            "olleh\n"
          ]
        }
      ]
    },
    {
      "cell_type": "code",
      "source": [
        "l = \"madam\"\n",
        "print(l[-1:-6:-1])\n",
        "print(l[:])\n",
        "print(l[::])\n",
        "print(l[::2])\n",
        "print(l[::-1])"
      ],
      "metadata": {
        "colab": {
          "base_uri": "https://localhost:8080/"
        },
        "id": "utigEHTJEcmZ",
        "outputId": "13f51f6d-46f3-40f9-832d-b5c22a26569d"
      },
      "execution_count": null,
      "outputs": [
        {
          "output_type": "stream",
          "name": "stdout",
          "text": [
            "madam\n",
            "madam\n",
            "madam\n",
            "mdm\n",
            "madam\n"
          ]
        }
      ]
    },
    {
      "cell_type": "code",
      "source": [
        "st='Happy Christmas and Happy new year'\n",
        "\n",
        "if (st.startswith(\"Happy”)):\n",
        "\n",
        "    x=st.rsplit(“Happy”)\n",
        "\n",
        "print(len(x))"
      ],
      "metadata": {
        "colab": {
          "base_uri": "https://localhost:8080/",
          "height": 106
        },
        "id": "2N4YEB0IEoJa",
        "outputId": "0b2db41b-87dc-4a6e-e6ce-0120d9acc7b2"
      },
      "execution_count": null,
      "outputs": [
        {
          "output_type": "error",
          "ename": "SyntaxError",
          "evalue": "unterminated string literal (detected at line 3) (<ipython-input-17-66b1dfddaae3>, line 3)",
          "traceback": [
            "\u001b[0;36m  File \u001b[0;32m\"<ipython-input-17-66b1dfddaae3>\"\u001b[0;36m, line \u001b[0;32m3\u001b[0m\n\u001b[0;31m    if (st.startswith(\"Happy”)):\u001b[0m\n\u001b[0m                      ^\u001b[0m\n\u001b[0;31mSyntaxError\u001b[0m\u001b[0;31m:\u001b[0m unterminated string literal (detected at line 3)\n"
          ]
        }
      ]
    },
    {
      "cell_type": "code",
      "source": [
        "st = 'Happy Christmas and Happy new year'\n",
        "\n",
        "if st.startswith(\"Happy\"):\n",
        "    x = st.rsplit(\"Happy\")  # Split by \"Happy\"\n",
        "\n",
        "print(len(x))\n"
      ],
      "metadata": {
        "colab": {
          "base_uri": "https://localhost:8080/"
        },
        "id": "Gj6Any5oEn8T",
        "outputId": "765726d2-cdc0-4ff0-c3e4-ce364057f246"
      },
      "execution_count": null,
      "outputs": [
        {
          "output_type": "stream",
          "name": "stdout",
          "text": [
            "3\n"
          ]
        }
      ]
    },
    {
      "cell_type": "code",
      "source": [
        "s = \"OpenAI\"\n",
        "print(s[1:6][-1::-2])"
      ],
      "metadata": {
        "colab": {
          "base_uri": "https://localhost:8080/"
        },
        "id": "ivKKwSENFEff",
        "outputId": "3aeea866-f95f-44e6-90dc-cb31281170ed"
      },
      "execution_count": null,
      "outputs": [
        {
          "output_type": "stream",
          "name": "stdout",
          "text": [
            "Inp\n"
          ]
        }
      ]
    },
    {
      "cell_type": "code",
      "source": [
        "#revision\n",
        "#indexing:- positional number of chartacters\n",
        "#string:- is ordered sequence positional number of chartacters\n",
        "#len():- counts the no of characters in the string\n",
        "#print th even characters from a string?   [start(0):end:step(2)]\n",
        "#print the odd characters from string? [start[1]:end:step(2)]"
      ],
      "metadata": {
        "id": "fv8NJNkwFQzE"
      },
      "execution_count": null,
      "outputs": []
    },
    {
      "cell_type": "code",
      "source": [
        "#Negative indexing:-  we can access the string in reverse direction.\n",
        "# neagtive indexing starts from -1\n",
        "#what is the default slicing direction?\n",
        "#slicing can be done from lft to right dirction\n",
        "s = \"Hello world!\"\n",
        "print(s[-1:-7])\n",
        "print(s[-7:-1])"
      ],
      "metadata": {
        "colab": {
          "base_uri": "https://localhost:8080/"
        },
        "id": "uo1ZvH5WFcba",
        "outputId": "a9d0814c-6ec5-4d25-f419-a5efe0554906"
      },
      "execution_count": null,
      "outputs": [
        {
          "output_type": "stream",
          "name": "stdout",
          "text": [
            "\n",
            " world\n"
          ]
        }
      ]
    },
    {
      "cell_type": "code",
      "source": [
        "#How can i print the string in reverse direction (or) how can i access the string by using negative indexing?\n",
        "#if you want to access string in reverse direction we need to give step value as \"-1\"\n",
        "print(s[-1:-13:-1])"
      ],
      "metadata": {
        "colab": {
          "base_uri": "https://localhost:8080/"
        },
        "id": "hzVa7M4EFvtH",
        "outputId": "b3065251-5afb-4785-9a6e-ef25804864bf"
      },
      "execution_count": null,
      "outputs": [
        {
          "output_type": "stream",
          "name": "stdout",
          "text": [
            "!dlrow olleH\n"
          ]
        }
      ]
    },
    {
      "cell_type": "markdown",
      "source": [
        "#Default indexing\n"
      ],
      "metadata": {
        "id": "58N2QRXkFzq0"
      }
    },
    {
      "cell_type": "code",
      "source": [
        "#How can we make slicing very easy without giving the indexing?\n",
        "h = \"Data science is the scientific study of data to gain knowledge and make informed decisions\"\n",
        "print(h[:])\n",
        "#default indexing[startposition[0]:end[len(str)]:step[1]]\n",
        "print(h[::]) #value error: slice step cannot be zero\n",
        "#print th even index characters from above string?\n",
        "print(h[::2])\n",
        "#odd charcters\n",
        "print(h[1::2])"
      ],
      "metadata": {
        "colab": {
          "base_uri": "https://localhost:8080/"
        },
        "id": "X7TQgL2zF6F4",
        "outputId": "da772d81-df47-4867-987b-65631832f75e"
      },
      "execution_count": null,
      "outputs": [
        {
          "output_type": "stream",
          "name": "stdout",
          "text": [
            "Data science is the scientific study of data to gain knowledge and make informed decisions\n",
            "Data science is the scientific study of data to gain knowledge and make informed decisions\n",
            "Dt cec stesinii td fdt ogi nweg n aeifre eiin\n",
            "aasinei h cetfcsuyo aat ankoldeadmk nomddcsos\n"
          ]
        }
      ]
    },
    {
      "cell_type": "code",
      "source": [
        "a = \"hello\"\n",
        "#reverse above string\n",
        "print(a[::-1])"
      ],
      "metadata": {
        "colab": {
          "base_uri": "https://localhost:8080/"
        },
        "id": "XCK87oUxGGks",
        "outputId": "db039e91-b3b8-4c88-88a5-bd6ac522c6eb"
      },
      "execution_count": null,
      "outputs": [
        {
          "output_type": "stream",
          "name": "stdout",
          "text": [
            "olleh\n"
          ]
        }
      ]
    },
    {
      "cell_type": "code",
      "source": [
        "#check weather the string is palidrome or not?\n",
        "#madam,  malayalam, markram, mom, dad, hyderabad, karnatak,chennai\n",
        "i = input(\"enter the name: \")\n",
        "print(i[::-1])"
      ],
      "metadata": {
        "colab": {
          "base_uri": "https://localhost:8080/"
        },
        "id": "hTC3BUebGN1C",
        "outputId": "006de008-84b8-4b72-be13-fd534a1b6698"
      },
      "execution_count": null,
      "outputs": [
        {
          "output_type": "stream",
          "name": "stdout",
          "text": [
            "enter the name: naveen\n",
            "neevan\n"
          ]
        }
      ]
    },
    {
      "cell_type": "markdown",
      "source": [
        "#string\n"
      ],
      "metadata": {
        "id": "UaT8qKX8GXe5"
      }
    },
    {
      "cell_type": "code",
      "source": [
        "#string methods:- the methods that are applying on the string is known as string methods\n",
        "#what are all methods i can apply on the below string?\n",
        "#by using \"dir()\" we can find out all the methods that are applicable on string\n",
        "a = \"hello world!\"\n",
        "print(dir(a))"
      ],
      "metadata": {
        "colab": {
          "base_uri": "https://localhost:8080/"
        },
        "id": "we9l6otqGZ6r",
        "outputId": "a4c0f319-7509-4063-db50-c2d751dc0513"
      },
      "execution_count": null,
      "outputs": [
        {
          "output_type": "stream",
          "name": "stdout",
          "text": [
            "['__add__', '__class__', '__contains__', '__delattr__', '__dir__', '__doc__', '__eq__', '__format__', '__ge__', '__getattribute__', '__getitem__', '__getnewargs__', '__gt__', '__hash__', '__init__', '__init_subclass__', '__iter__', '__le__', '__len__', '__lt__', '__mod__', '__mul__', '__ne__', '__new__', '__reduce__', '__reduce_ex__', '__repr__', '__rmod__', '__rmul__', '__setattr__', '__sizeof__', '__str__', '__subclasshook__', 'capitalize', 'casefold', 'center', 'count', 'encode', 'endswith', 'expandtabs', 'find', 'format', 'format_map', 'index', 'isalnum', 'isalpha', 'isascii', 'isdecimal', 'isdigit', 'isidentifier', 'islower', 'isnumeric', 'isprintable', 'isspace', 'istitle', 'isupper', 'join', 'ljust', 'lower', 'lstrip', 'maketrans', 'partition', 'removeprefix', 'removesuffix', 'replace', 'rfind', 'rindex', 'rjust', 'rpartition', 'rsplit', 'rstrip', 'split', 'splitlines', 'startswith', 'strip', 'swapcase', 'title', 'translate', 'upper', 'zfill']\n"
          ]
        }
      ]
    },
    {
      "cell_type": "code",
      "source": [
        "a = \"hello world!\"\n",
        "#convert the above string in to upper case?\n",
        "print(a.upper())\n",
        "print(a.lower())\n",
        "print(a.capitalize()) #it converts 1st letter into capital\n",
        "print(a.title())#it convert the 1st letter into capital after each and every space"
      ],
      "metadata": {
        "colab": {
          "base_uri": "https://localhost:8080/"
        },
        "id": "AcRpFsM8GyMy",
        "outputId": "f317f5cf-32fa-4323-d3ec-585cb6005b16"
      },
      "execution_count": null,
      "outputs": [
        {
          "output_type": "stream",
          "name": "stdout",
          "text": [
            "HELLO WORLD!\n",
            "hello world!\n",
            "Hello world!\n",
            "Hello World!\n"
          ]
        }
      ]
    },
    {
      "cell_type": "code",
      "source": [
        "#i want to delete unwanted space from the string\n",
        "k = \"   hello world!   \"\n",
        "#strip()\n",
        "print(k.strip())\n",
        "#left side space\n",
        "print(k.lstrip())\n",
        "#right side space\n",
        "print(k.rstrip())"
      ],
      "metadata": {
        "colab": {
          "base_uri": "https://localhost:8080/"
        },
        "id": "T51X4VPDG1Rl",
        "outputId": "f4ace4af-0753-41f7-fae7-509fcaed618b"
      },
      "execution_count": null,
      "outputs": [
        {
          "output_type": "stream",
          "name": "stdout",
          "text": [
            "hello world!\n",
            "hello world!   \n",
            "   hello world!\n"
          ]
        }
      ]
    },
    {
      "cell_type": "code",
      "source": [
        "#replace the \"world\" with univers in below string\n",
        "#replace('old','new_str)\n",
        "s = \"hello world!\"\n",
        "print(s.replace(\"world\",\"universe\"))"
      ],
      "metadata": {
        "colab": {
          "base_uri": "https://localhost:8080/"
        },
        "id": "EWJof2-2G_5K",
        "outputId": "d2756650-806b-419b-b3d6-786a0a9cb321"
      },
      "execution_count": null,
      "outputs": [
        {
          "output_type": "stream",
          "name": "stdout",
          "text": [
            "hello universe!\n"
          ]
        }
      ]
    },
    {
      "cell_type": "code",
      "source": [
        "h = \"hi team! good afternoon\"\n",
        "#above string replace \"afternoon\" with \"evening\"\n",
        "print(h.find('z'))\n",
        "print(h.index('z'))\n",
        "#what is difference between index and find()?\n",
        "#in find() if the index charactr is not present it prints -1\n",
        "#where in index() if the character is not present it rises value \"error"
      ],
      "metadata": {
        "colab": {
          "base_uri": "https://localhost:8080/",
          "height": 228
        },
        "id": "Ktnq-cQLHC2K",
        "outputId": "5bd2778f-d171-4596-8b56-73219fdda825"
      },
      "execution_count": null,
      "outputs": [
        {
          "output_type": "stream",
          "name": "stdout",
          "text": [
            "-1\n"
          ]
        },
        {
          "output_type": "error",
          "ename": "ValueError",
          "evalue": "substring not found",
          "traceback": [
            "\u001b[0;31m---------------------------------------------------------------------------\u001b[0m",
            "\u001b[0;31mValueError\u001b[0m                                Traceback (most recent call last)",
            "\u001b[0;32m<ipython-input-30-0c146cc80e0c>\u001b[0m in \u001b[0;36m<cell line: 4>\u001b[0;34m()\u001b[0m\n\u001b[1;32m      2\u001b[0m \u001b[0;31m#above string replace \"afternoon\" with \"evening\"\u001b[0m\u001b[0;34m\u001b[0m\u001b[0;34m\u001b[0m\u001b[0m\n\u001b[1;32m      3\u001b[0m \u001b[0mprint\u001b[0m\u001b[0;34m(\u001b[0m\u001b[0mh\u001b[0m\u001b[0;34m.\u001b[0m\u001b[0mfind\u001b[0m\u001b[0;34m(\u001b[0m\u001b[0;34m'z'\u001b[0m\u001b[0;34m)\u001b[0m\u001b[0;34m)\u001b[0m\u001b[0;34m\u001b[0m\u001b[0;34m\u001b[0m\u001b[0m\n\u001b[0;32m----> 4\u001b[0;31m \u001b[0mprint\u001b[0m\u001b[0;34m(\u001b[0m\u001b[0mh\u001b[0m\u001b[0;34m.\u001b[0m\u001b[0mindex\u001b[0m\u001b[0;34m(\u001b[0m\u001b[0;34m'z'\u001b[0m\u001b[0;34m)\u001b[0m\u001b[0;34m)\u001b[0m\u001b[0;34m\u001b[0m\u001b[0;34m\u001b[0m\u001b[0m\n\u001b[0m\u001b[1;32m      5\u001b[0m \u001b[0;31m#what is difference between index and find()?\u001b[0m\u001b[0;34m\u001b[0m\u001b[0;34m\u001b[0m\u001b[0m\n\u001b[1;32m      6\u001b[0m \u001b[0;31m#in find() if the index charactr is not present it prints -1\u001b[0m\u001b[0;34m\u001b[0m\u001b[0;34m\u001b[0m\u001b[0m\n",
            "\u001b[0;31mValueError\u001b[0m: substring not found"
          ]
        }
      ]
    },
    {
      "cell_type": "code",
      "source": [
        "#what is \"swapcase()\"?\n",
        "#what is zfill?"
      ],
      "metadata": {
        "id": "UJ8NBDfGHRVl"
      },
      "execution_count": null,
      "outputs": []
    },
    {
      "cell_type": "markdown",
      "source": [
        "#string format methods\n"
      ],
      "metadata": {
        "id": "qyFgtvEzHUZd"
      }
    },
    {
      "cell_type": "code",
      "source": [
        "age = 10\n",
        "txt = f\"my age is {age} years old.\"\n",
        "print(txt)"
      ],
      "metadata": {
        "colab": {
          "base_uri": "https://localhost:8080/"
        },
        "id": "OsLYpgjSHaEI",
        "outputId": "425cadb4-94bb-410e-9e58-c7ae6c6d0932"
      },
      "execution_count": null,
      "outputs": [
        {
          "output_type": "stream",
          "name": "stdout",
          "text": [
            "my age is 10 years old.\n"
          ]
        }
      ]
    },
    {
      "cell_type": "code",
      "source": [
        "item_name = input(\"eneter the product name: \")\n",
        "quantity = float(input(\"enter the quantity: \"))\n",
        "price_each = float(input(\"eneter the price: \"))\n",
        "notification = f\"your order for {item_name} has been confirmed with an quantity of {quantity} and Total price {price_each*quantity}/-\"\n",
        "print(notification)"
      ],
      "metadata": {
        "colab": {
          "base_uri": "https://localhost:8080/"
        },
        "id": "Y--gqJmWHw33",
        "outputId": "1fb46720-a5c5-47bb-954e-c1bf07750017"
      },
      "execution_count": null,
      "outputs": [
        {
          "output_type": "stream",
          "name": "stdout",
          "text": [
            "eneter the product name: cake\n",
            "enter the quantity: 9\n",
            "eneter the price: 50\n",
            "your order for cake has been confirmed with an quantity of 9.0 and Total price 450.0/-\n"
          ]
        }
      ]
    },
    {
      "cell_type": "markdown",
      "source": [
        "#escape characters\n"
      ],
      "metadata": {
        "id": "cN914ZisIAOt"
      }
    },
    {
      "cell_type": "code",
      "source": [
        "#what is escape characters?\n",
        "u = \"Dwayne \\\"The Rock\\\" Johonson\"\n",
        "#print the above string with quotes\n",
        "print(u)\n",
        "#escape characters used to print the illegal characters(\" \") or (' ') use backward slash(\\) in front of the characters"
      ],
      "metadata": {
        "colab": {
          "base_uri": "https://localhost:8080/"
        },
        "id": "oFmips4mICac",
        "outputId": "099339e4-da85-484a-fd0a-c35e2182c21c"
      },
      "execution_count": null,
      "outputs": [
        {
          "output_type": "stream",
          "name": "stdout",
          "text": [
            "Dwayne \"The Rock\" Johonson\n"
          ]
        }
      ]
    },
    {
      "cell_type": "code",
      "source": [
        "l = \"hello team! \\\"good day\\\", hope everyon is practing \\\"string\\\" is important\"\n",
        "print(l)"
      ],
      "metadata": {
        "colab": {
          "base_uri": "https://localhost:8080/"
        },
        "id": "gs4jMEhnINxr",
        "outputId": "8ed8ad5b-c9f8-4224-a065-dd1c03726bb3"
      },
      "execution_count": null,
      "outputs": [
        {
          "output_type": "stream",
          "name": "stdout",
          "text": [
            "hello team! \"good day\", hope everyon is practing \"string\" is important\n"
          ]
        }
      ]
    },
    {
      "cell_type": "code",
      "source": [
        "a = 10\n",
        "print(dir(a))"
      ],
      "metadata": {
        "id": "zK3IEViyIXIA",
        "outputId": "b5a79c18-4925-4ca9-9e73-eb7cdced274d",
        "colab": {
          "base_uri": "https://localhost:8080/"
        }
      },
      "execution_count": null,
      "outputs": [
        {
          "output_type": "stream",
          "name": "stdout",
          "text": [
            "['__abs__', '__add__', '__and__', '__bool__', '__ceil__', '__class__', '__delattr__', '__dir__', '__divmod__', '__doc__', '__eq__', '__float__', '__floor__', '__floordiv__', '__format__', '__ge__', '__getattribute__', '__getnewargs__', '__gt__', '__hash__', '__index__', '__init__', '__init_subclass__', '__int__', '__invert__', '__le__', '__lshift__', '__lt__', '__mod__', '__mul__', '__ne__', '__neg__', '__new__', '__or__', '__pos__', '__pow__', '__radd__', '__rand__', '__rdivmod__', '__reduce__', '__reduce_ex__', '__repr__', '__rfloordiv__', '__rlshift__', '__rmod__', '__rmul__', '__ror__', '__round__', '__rpow__', '__rrshift__', '__rshift__', '__rsub__', '__rtruediv__', '__rxor__', '__setattr__', '__sizeof__', '__str__', '__sub__', '__subclasshook__', '__truediv__', '__trunc__', '__xor__', 'as_integer_ratio', 'bit_count', 'bit_length', 'conjugate', 'denominator', 'from_bytes', 'imag', 'numerator', 'real', 'to_bytes']\n"
          ]
        }
      ]
    },
    {
      "cell_type": "markdown",
      "source": [
        "#Conditional statments\n"
      ],
      "metadata": {
        "id": "F8XT_xMz_Nxn"
      }
    },
    {
      "cell_type": "code",
      "source": [
        "#decision making program can be done with the help of conditional statements\n",
        "#How can you check the condition and how can you make decision?\n",
        "#decision making or conditional check can be done based on \"comaprision operators\"\n",
        "#what is comaprision operators? #operators where we can check certain conditions that are satisfied or notsatisfied\n",
        "#this is also known as \"relational operators\"\n",
        "#There are 6 comparision or relational operators\n",
        "#1.Equal to----> ==\n",
        "#2. Not equal to ---> !=\n",
        "#3. greater than --->   >\n",
        "#4. less than ----->   <\n",
        "#5. greater than equal to ----> >=\n",
        "#6. less than equal too --->   <="
      ],
      "metadata": {
        "id": "Orvj61LU_QbB"
      },
      "execution_count": null,
      "outputs": []
    },
    {
      "cell_type": "code",
      "source": [
        "#what are all conditionL satetment do we have in python?\n",
        "#if----> elif----> else"
      ],
      "metadata": {
        "id": "HTxfOijP_dap"
      },
      "execution_count": null,
      "outputs": []
    },
    {
      "cell_type": "code",
      "source": [
        "#write a program to check that student is pass or fail based recived marks and print marks\n",
        "marks = int(input(\"eneter the marks: \"))\n",
        "passing = 45\n",
        "if marks >= passing:\n",
        "  print(f\"congratulations, you have receive {marks} marks\")\n",
        "else:\n",
        "  print(f\"Better luck next time,you have received {marks} marks\")"
      ],
      "metadata": {
        "colab": {
          "base_uri": "https://localhost:8080/"
        },
        "id": "K4iE3jiv_jxp",
        "outputId": "cceb465c-b8dd-4ca1-d778-06243f42b0b8"
      },
      "execution_count": null,
      "outputs": [
        {
          "output_type": "stream",
          "name": "stdout",
          "text": [
            "eneter the marks: 90\n",
            "congratulations, you have receive 90 marks\n"
          ]
        }
      ]
    },
    {
      "cell_type": "code",
      "source": [
        "#if you are having more than 2 conditons then\n",
        "#we can use \"elif\"\n",
        "#write program to check either the given is +ve or -ve if it is 0 means print \"neutral\"\n",
        "num = int(input(\"eneter the number: \"))\n",
        "if num > 0:\n",
        "  print(\"+ve\")\n",
        "elif num == 0:\n",
        "  print(\"neutral\")\n",
        "else:\n",
        "  print(\"-ve\")\n"
      ],
      "metadata": {
        "colab": {
          "base_uri": "https://localhost:8080/"
        },
        "id": "WxRFmEdO_sMM",
        "outputId": "0f47e895-953b-46db-ae1f-01a7484f940e"
      },
      "execution_count": null,
      "outputs": [
        {
          "output_type": "stream",
          "name": "stdout",
          "text": [
            "eneter the number: 0\n",
            "neutral\n"
          ]
        }
      ]
    },
    {
      "cell_type": "markdown",
      "source": [
        "#Interview Questions\n"
      ],
      "metadata": {
        "id": "1q9gMLAA_yX7"
      }
    },
    {
      "cell_type": "code",
      "source": [
        "#what is string?\n",
        "##string is a collection of multiple characters written inside the quotes\n",
        "#how can we create or declare a string?\n",
        "#we decalre strings in \" \" or ' '\n",
        "#How many types of strings are their?\n",
        "#two types\n",
        "#single line string---> \" \" or ' '\n",
        "#multiline string---> \"\"\" \"\"\"double triple quotes  or single triple quotes ''' '''\n",
        "#How we can access the characters in string?\n",
        "   #1.indexing    2. slicing operator--->[]\n",
        "#what is len()? #returns the count of items\n",
        "#what is -ve indexing?\n",
        "#where we can access the items in reverse direction\n",
        "#what default indexing? [start:end:step]\n",
        "#what is string methods?\n",
        "#the methods that are applying on the string is known as string methods\n",
        "#how can we find what are methods applicable on string?\n",
        "# \"dir()\"\"\n",
        "#tell me a 10 string ,methods?\n",
        "#upper, lower, strip, lstrip, rstrip, capitalize, title, find,index, replace,swapcase,zfill\n",
        "#what is string format method\n",
        "#it takes an argument and replace or fill it over the place holder{}\n",
        "#What is escape characters?\n",
        "#it used to print illegal characters"
      ],
      "metadata": {
        "id": "1Qi7QlHW_4lU"
      },
      "execution_count": null,
      "outputs": []
    },
    {
      "cell_type": "code",
      "source": [
        "#write a program to check weather the given string is palidrome or not , irrespective of letters\n",
        "print(1 == 1)\n",
        "print(\"a\"==\"A\")\n",
        "print(ord(\"A\"))"
      ],
      "metadata": {
        "colab": {
          "base_uri": "https://localhost:8080/"
        },
        "id": "DuaC8fM3Wi8L",
        "outputId": "d4fc9ebc-e1a6-4718-916d-da12988f5e4a"
      },
      "execution_count": null,
      "outputs": [
        {
          "output_type": "stream",
          "name": "stdout",
          "text": [
            "True\n",
            "False\n",
            "65\n"
          ]
        }
      ]
    },
    {
      "cell_type": "code",
      "source": [
        "#mOM, MalaYAlaM\n",
        "a = input(\"eneter the string: \")\n",
        "b = a[::-1]\n",
        "if a.lower() == b.lower():\n",
        "  print(\"yes\")\n",
        "else:\n",
        "  print(\"no\")"
      ],
      "metadata": {
        "colab": {
          "base_uri": "https://localhost:8080/"
        },
        "id": "lBXwXmMUWwMM",
        "outputId": "b8b883f0-4549-4b40-a8e4-58780dc3626b"
      },
      "execution_count": null,
      "outputs": [
        {
          "output_type": "stream",
          "name": "stdout",
          "text": [
            "eneter the string: mom\n",
            "yes\n"
          ]
        }
      ]
    },
    {
      "cell_type": "markdown",
      "source": [
        "#Logical operators\n"
      ],
      "metadata": {
        "id": "dsjBwGiXXXO7"
      }
    },
    {
      "cell_type": "code",
      "source": [
        "\n",
        "# 1. and:- operator executes the program when all the conditions are true\n",
        "a = 455\n",
        "b = 60\n",
        "c = 20\n",
        "#write progra, to check weather a is greater than c and b similarly c is less than b?\n",
        "if a > b and a > c and c < b:\n",
        "  print(\"all the condition satisfied\")\n",
        "else:\n",
        "  print(\"not satisfied\")\n",
        "#Logical operators\n",
        "# 1. and:- operator executes the program when all the conditions are true\n",
        "a = 455\n",
        "b = 60\n",
        "c = 20\n",
        "#write progra, to check weather a is greater than c and b similarly c is less than b?\n",
        "if a > b and a > c and c < b:\n",
        "  print(\"all the condition satisfied\")\n",
        "else:\n",
        "  print(\"not satisfied\")\n",
        "#Logical operators\n",
        "# 1. and:- operator executes the program when all the conditions are true\n",
        "a = 455\n",
        "b = 60\n",
        "c = 20\n",
        "#write progra, to check weather a is greater than c and b similarly c is less than b?\n",
        "if a > b and a > c and c < b:\n",
        "  print(\"all the condition satisfied\")\n",
        "else:\n",
        "  print(\"not satisfied\")\n",
        "# 1. and:- operator executes the program when all the conditions are true\n",
        "a = 455\n",
        "b = 60\n",
        "c = 20\n",
        "#write progra, to check weather a is greater than c and b similarly c is less than b?\n",
        "if a > b and a > c and c > b:\n",
        "  print(\"all the condition satisfied\")\n",
        "else:\n",
        "  print(\"not satisfied\")\n"
      ],
      "metadata": {
        "colab": {
          "base_uri": "https://localhost:8080/"
        },
        "id": "9OUq203uXDBO",
        "outputId": "1619f228-9f9a-4a34-cdc0-dbcdc458ed88"
      },
      "execution_count": null,
      "outputs": [
        {
          "output_type": "stream",
          "name": "stdout",
          "text": [
            "all the condition satisfied\n",
            "all the condition satisfied\n",
            "all the condition satisfied\n",
            "not satisfied\n"
          ]
        }
      ]
    },
    {
      "cell_type": "code",
      "source": [
        "#or:- operators executes the program if any one condition is satisfied\n",
        "#check the below values have met with any one condition then execute the program\n",
        "a = 18\n",
        "b = 45\n",
        "#\n",
        "x = 20\n",
        "z = 60\n",
        "y = 35\n",
        "if x > a or x > 45 or y > a or y < b or z > a or z < b:\n",
        "  print(\"conditions satisfied\")\n",
        "else:\n",
        "  print(\"any one condition is not satisfied\")"
      ],
      "metadata": {
        "colab": {
          "base_uri": "https://localhost:8080/"
        },
        "id": "7T7t4jeKXeYT",
        "outputId": "338ec004-2c21-42f0-fa8e-661e9c866acf"
      },
      "execution_count": null,
      "outputs": [
        {
          "output_type": "stream",
          "name": "stdout",
          "text": [
            "conditions satisfied\n"
          ]
        }
      ]
    },
    {
      "cell_type": "code",
      "source": [
        "a = 50\n",
        "b = 20\n",
        "c = 30\n",
        "d = 60\n",
        "if a>b or c > b or d < a:\n",
        "  print(\"all the conditions satisfied\")\n",
        "else:\n",
        "  print(\"all the conditions not satisfied\")"
      ],
      "metadata": {
        "colab": {
          "base_uri": "https://localhost:8080/"
        },
        "id": "CqX1UE37YDQo",
        "outputId": "03fb77ef-e5c7-4189-f6ee-724929318fe2"
      },
      "execution_count": null,
      "outputs": [
        {
          "output_type": "stream",
          "name": "stdout",
          "text": [
            "all the conditions satisfied\n"
          ]
        }
      ]
    },
    {
      "cell_type": "code",
      "source": [
        "#Not operator:- reverse the actual ouput\n",
        "print(1 == 1)\n",
        "print(not(1==1))"
      ],
      "metadata": {
        "colab": {
          "base_uri": "https://localhost:8080/"
        },
        "id": "012DbhKkYJdM",
        "outputId": "55d6adc6-6540-45b5-a34a-c33abb5f42b9"
      },
      "execution_count": null,
      "outputs": [
        {
          "output_type": "stream",
          "name": "stdout",
          "text": [
            "True\n",
            "False\n"
          ]
        }
      ]
    },
    {
      "cell_type": "markdown",
      "source": [
        "**nested conditions**\n"
      ],
      "metadata": {
        "id": "6ne2TvcbYOQW"
      }
    },
    {
      "cell_type": "code",
      "source": [
        "#If you want to check a series or range  of conditions and you to print series of outputs\n",
        "a = 25\n",
        "if a > 10:\n",
        "  print(\"a is greater than 10\")\n",
        "  if a>20:\n",
        "    print(\"a is greater than 20\")\n",
        "    if a>30:\n",
        "      print(\"a is greater than 30\")\n",
        "      if a>40:\n",
        "        print(\"a is greater than 40\")\n",
        "        if a>50:\n",
        "          print(\"a is greater than 50\")\n",
        "        else:\n",
        "          print(\"a is less than 50\")\n",
        "      else:\n",
        "        print(\"a is less than 40\")\n",
        "    else:\n",
        "      print(\"a is less than 30\")\n",
        "  else:\n",
        "    print(\"a is less than 20\")\n",
        "else:\n",
        "  print(\"a is less than 10\")"
      ],
      "metadata": {
        "colab": {
          "base_uri": "https://localhost:8080/"
        },
        "id": "sTIqMZMEYRTz",
        "outputId": "eb53c017-22d7-425c-fa2c-ac48c9f8f0fa"
      },
      "execution_count": null,
      "outputs": [
        {
          "output_type": "stream",
          "name": "stdout",
          "text": [
            "a is greater than 10\n",
            "a is greater than 20\n",
            "a is less than 30\n"
          ]
        }
      ]
    },
    {
      "cell_type": "code",
      "source": [
        "#writing condition inside the another condition is knownas Nested conditions means writing if condition inside another if condition"
      ],
      "metadata": {
        "id": "wpsa5zhyYgyd"
      },
      "execution_count": null,
      "outputs": []
    },
    {
      "cell_type": "code",
      "source": [
        "#write a program to print that Grdaes along with marks\n",
        "#if the student is getting\n",
        "#40 to 60 ---> congratulation you have received \"D\" Grade along with ___marks\n",
        "#61 to 70 --> C  congratulation you have received \"c\" Grade along with ___marks\n",
        "#71 to 80--> B  congratulation you have received \"B\" Grade along with ___marks\n",
        "#81 TO 90 --> A congratulation you have received \"A\" Grade along with ___marks\n",
        "#91 TO 100 --> A+ congratulation you have received \"A+\" Grade along with ___marks\n",
        "#if more than 100 markas --> \"dont be smart \"\n",
        "#if less than 40marks print better luck next time you have recived __ marks.\n",
        "#use the nested if condition along with elif condition"
      ],
      "metadata": {
        "id": "tfr13E5KYjSB"
      },
      "execution_count": null,
      "outputs": []
    },
    {
      "cell_type": "code",
      "source": [
        "marks = float(input(\"Enter the marks obtained: \"))\n",
        "\n",
        "if marks > 100:\n",
        "    print(\"Don't be smart!\")\n",
        "elif marks >= 91:\n",
        "    print(\"Congratulations! You have received an A+ grade with\", marks, \"marks.\")\n",
        "elif marks >= 81:\n",
        "    print(\"Congratulations! You have received an A grade with\", marks, \"marks.\")\n",
        "elif marks >= 71:\n",
        "    print(\"Congratulations! You have received a B grade with\", marks, \"marks.\")\n",
        "elif marks >= 61:\n",
        "    print(\"Congratulations! You have received a C grade with\", marks, \"marks.\")\n",
        "elif marks >= 40:\n",
        "    print(\"Congratulations! You have received a D grade with\", marks, \"marks.\")\n",
        "else:\n",
        "    print(\"Better luck next time. You have received\", marks, \"marks.\")"
      ],
      "metadata": {
        "colab": {
          "base_uri": "https://localhost:8080/"
        },
        "id": "_Qh66DqIZA8s",
        "outputId": "109f5e54-95ea-4c49-8289-c82b2eb7a64a"
      },
      "execution_count": null,
      "outputs": [
        {
          "output_type": "stream",
          "name": "stdout",
          "text": [
            "Enter the marks obtained: 101\n",
            "Don't be smart!\n"
          ]
        }
      ]
    },
    {
      "cell_type": "code",
      "source": [
        "#tw0 condition--> if & else\n",
        "#more than 2 conditions----> if elif else\n",
        "#multiple conditions at a time --> lodical operators(and, or , not)\n",
        "#if you series of output = nested if condition"
      ],
      "metadata": {
        "id": "L_66zmhcZmqS"
      },
      "execution_count": null,
      "outputs": []
    },
    {
      "cell_type": "code",
      "source": [
        "a = 50\n",
        "b = 20\n",
        "c = 30\n",
        "d = 60\n",
        "if a>b or c > b or d < a:\n",
        "  pass\n",
        "\n",
        "#pass is a null place holder when you execute pass then nothing will happens"
      ],
      "metadata": {
        "id": "EYuQdMLnZurJ"
      },
      "execution_count": null,
      "outputs": []
    },
    {
      "cell_type": "markdown",
      "source": [
        "**Loops**\n"
      ],
      "metadata": {
        "id": "L6aFw0CWLoEP"
      }
    },
    {
      "cell_type": "code",
      "source": [
        "#what is loops?\n",
        "# Loops are set of instructions\n",
        "#what is the purpose of loops?\n",
        "#it is used to avoid writing duplicate codes\n",
        "#how many types of codes?\n",
        "#there are 2 types\n",
        "#1.WET Code:- writing everything twice\n",
        "#2.DRY Code:- don't repeat yourself\n",
        "#How many types of loops?\n",
        "#There are 2 types\n",
        "#1. While loop\n",
        "#2. For loop"
      ],
      "metadata": {
        "id": "LxF8CCO4Lqlq"
      },
      "execution_count": null,
      "outputs": []
    },
    {
      "cell_type": "markdown",
      "source": [
        "#While Loop\n"
      ],
      "metadata": {
        "id": "uLMGhuMVL3i9"
      }
    },
    {
      "cell_type": "code",
      "source": [
        "#what is while loop?\n",
        "#it is a set of instructions wich will run untill the condition remains true\n",
        "target = 5\n",
        "intial = 1\n",
        "while intial <= 5:\n",
        "  print(\"go up\")\n",
        "  print(\"go down\")\n",
        "  print(\"=====rep is completed===\")\n",
        "  intial = intial + 1"
      ],
      "metadata": {
        "colab": {
          "base_uri": "https://localhost:8080/"
        },
        "id": "JjjjpklrL2hf",
        "outputId": "fec743a9-4ede-48da-a4cb-ac2215b46ef9"
      },
      "execution_count": null,
      "outputs": [
        {
          "output_type": "stream",
          "name": "stdout",
          "text": [
            "go up\n",
            "go down\n",
            "=====rep is completed===\n",
            "go up\n",
            "go down\n",
            "=====rep is completed===\n",
            "go up\n",
            "go down\n",
            "=====rep is completed===\n",
            "go up\n",
            "go down\n",
            "=====rep is completed===\n",
            "go up\n",
            "go down\n",
            "=====rep is completed===\n"
          ]
        }
      ]
    },
    {
      "cell_type": "code",
      "source": [
        "#writea simple program to run a lift if the user is giving 4th stop the lift at 4th floor\n",
        "target = int(input(\"enter floor number: \"))\n",
        "intial = 1\n",
        "while intial <= target:\n",
        "  print(f\"you have reached {intial} floor\")\n",
        "  intial = intial + 1\n"
      ],
      "metadata": {
        "colab": {
          "base_uri": "https://localhost:8080/"
        },
        "id": "lBjn7pDkMG2u",
        "outputId": "5059e04c-1cec-444e-91c8-6696a2db50b7"
      },
      "execution_count": null,
      "outputs": [
        {
          "output_type": "stream",
          "name": "stdout",
          "text": [
            "enter floor number: 4\n",
            "you have reached 1 floor\n",
            "you have reached 2 floor\n",
            "you have reached 3 floor\n",
            "you have reached 4 floor\n"
          ]
        }
      ]
    },
    {
      "cell_type": "code",
      "source": [
        "target = int(input(\"enter floor number: \"))\n",
        "intial = 0\n",
        "dontstop = int(input(\"enetr floor number\"))\n",
        "while intial < target:\n",
        "  intial = intial + 1\n",
        "  #print(f\"you have reached {intial} floor\")\n",
        "  if intial == dontstop:\n",
        "    continue\n",
        "  print(f\"you have reached {intial} floor\")"
      ],
      "metadata": {
        "colab": {
          "base_uri": "https://localhost:8080/"
        },
        "id": "vUqclHolMTaN",
        "outputId": "271741c1-8cf0-4760-9a62-544fc7fd6ef1"
      },
      "execution_count": null,
      "outputs": [
        {
          "output_type": "stream",
          "name": "stdout",
          "text": [
            "enter floor number: 8\n",
            "enetr floor number5\n",
            "you have reached 1 floor\n",
            "you have reached 2 floor\n",
            "you have reached 3 floor\n",
            "you have reached 4 floor\n",
            "you have reached 6 floor\n",
            "you have reached 7 floor\n",
            "you have reached 8 floor\n"
          ]
        }
      ]
    },
    {
      "cell_type": "code",
      "source": [
        "floor = 4\n",
        "ground = 0\n",
        "while ground < floor:\n",
        "\n",
        "  ground = ground + 1\n",
        "  print(f\"you have reached {ground} floor\")"
      ],
      "metadata": {
        "colab": {
          "base_uri": "https://localhost:8080/"
        },
        "id": "ZbFkJbZTMd2_",
        "outputId": "4b3f4dd5-c866-4296-965d-9f23a935d511"
      },
      "execution_count": null,
      "outputs": [
        {
          "output_type": "stream",
          "name": "stdout",
          "text": [
            "you have reached 1 floor\n",
            "you have reached 2 floor\n",
            "you have reached 3 floor\n",
            "you have reached 4 floor\n"
          ]
        }
      ]
    },
    {
      "cell_type": "code",
      "source": [
        "a = [1,2,3,4,5]\n",
        "#i want multiples of 2\n",
        "#2 4 6 8 10\n",
        "print(a*2)"
      ],
      "metadata": {
        "colab": {
          "base_uri": "https://localhost:8080/"
        },
        "id": "p_Bc8sOTMl4R",
        "outputId": "0e3a6bef-07c6-4fe6-8baf-e5a656d8d280"
      },
      "execution_count": null,
      "outputs": [
        {
          "output_type": "stream",
          "name": "stdout",
          "text": [
            "[1, 2, 3, 4, 5, 1, 2, 3, 4, 5]\n"
          ]
        }
      ]
    },
    {
      "cell_type": "code",
      "source": [
        "for i in a:\n",
        "  print(i*2, end=\",\")"
      ],
      "metadata": {
        "colab": {
          "base_uri": "https://localhost:8080/"
        },
        "id": "yt3yMFbKMt3i",
        "outputId": "14a0ee4a-b538-45a0-a67c-2cb6aa1d00c4"
      },
      "execution_count": null,
      "outputs": [
        {
          "output_type": "stream",
          "name": "stdout",
          "text": [
            "2,4,6,8,10,"
          ]
        }
      ]
    },
    {
      "cell_type": "code",
      "source": [
        "user = int(input(\"enter floor num: \"))\n",
        "intial = 0\n",
        "while intial < user:\n",
        "  intial = intial + 1\n",
        "  print(\"you are at:\", intial)"
      ],
      "metadata": {
        "colab": {
          "base_uri": "https://localhost:8080/"
        },
        "id": "dYsRpPC2vDyv",
        "outputId": "e7be6fea-f2df-44de-94fe-713553015cd1"
      },
      "execution_count": null,
      "outputs": [
        {
          "output_type": "stream",
          "name": "stdout",
          "text": [
            "enter floor num: 1\n",
            "you are at: 1\n"
          ]
        }
      ]
    },
    {
      "cell_type": "code",
      "source": [
        "#Note:- Break:- it terminates or stop the loop irrespective of data or items\n",
        "#Break:- using break statement in while  use the logic or count after the break statement\n",
        "user = int(input(\"enter floor num: \"))\n",
        "intial = 0\n",
        "eexit = int(input(\"enter the floor\"))\n",
        "while intial < user:\n",
        "  if intial == eexit:\n",
        "    break\n",
        "  intial = intial + 1\n",
        "  print(\"you are at:\", intial)"
      ],
      "metadata": {
        "colab": {
          "base_uri": "https://localhost:8080/"
        },
        "id": "DA1r0AbQvTBS",
        "outputId": "236b63c4-a139-457d-eb3a-c654562b46f5"
      },
      "execution_count": null,
      "outputs": [
        {
          "output_type": "stream",
          "name": "stdout",
          "text": [
            "enter floor num: 6\n",
            "enter the floor2\n",
            "you are at: 1\n",
            "you are at: 2\n"
          ]
        }
      ]
    },
    {
      "cell_type": "code",
      "source": [
        "#similarly i dont want to stop the lift at 2nd floor\n",
        "#Note :- continue used to skip the current iteration\n",
        "#when your using the continue keyword in the while loop use the logic before the continue"
      ],
      "metadata": {
        "id": "DVezur8ovh36"
      },
      "execution_count": null,
      "outputs": []
    },
    {
      "cell_type": "code",
      "source": [
        "user = int(input(\"enter floor num: \"))\n",
        "intial = 0\n",
        "dstop = int(input(\"enter the floor\"))\n",
        "while intial < user:\n",
        "  intial = intial + 1\n",
        "  if intial == dstop:\n",
        "    continue\n",
        "  print(\"you are at floor\",intial)+"
      ],
      "metadata": {
        "colab": {
          "base_uri": "https://localhost:8080/"
        },
        "id": "u251mAKDvngS",
        "outputId": "cc65ff8f-1c30-40c9-8158-675493097f86"
      },
      "execution_count": null,
      "outputs": [
        {
          "output_type": "stream",
          "name": "stdout",
          "text": [
            "enter floor num: 2\n",
            "enter the floor1\n",
            "you are at floor 2\n"
          ]
        }
      ]
    },
    {
      "cell_type": "code",
      "source": [
        "target = 10\n",
        "intial = 1\n",
        "while intial <= target:\n",
        "  print(intial, end= \",\")\n",
        "  intial = intial * 2"
      ],
      "metadata": {
        "colab": {
          "base_uri": "https://localhost:8080/"
        },
        "id": "2x-Sr6hJv2Yc",
        "outputId": "6a23948f-d87b-4cde-b0b0-86c6db86c9d7"
      },
      "execution_count": null,
      "outputs": [
        {
          "output_type": "stream",
          "name": "stdout",
          "text": [
            "1,2,4,8,"
          ]
        }
      ]
    },
    {
      "cell_type": "markdown",
      "source": [
        "#for loop\n"
      ],
      "metadata": {
        "id": "8tFFgEyTv8dP"
      }
    },
    {
      "cell_type": "code",
      "source": [
        "#runs a set of instructions or set of rules over each and every element in the collection\n",
        "a = [1,2,3,4,5,6,7,8,9]\n",
        "#printthe multiples of 2 from a\n",
        "#2,4,6,8,10,12,14,16,18\n",
        "for i in a:\n",
        "  print(i*2,end=\",\")\n",
        "#i is known as iterator and the process of going through each and every elemnt int the collection iterations"
      ],
      "metadata": {
        "colab": {
          "base_uri": "https://localhost:8080/"
        },
        "id": "prOlKIt0v-ox",
        "outputId": "c3c595a9-4507-4ad7-eb6c-765e203bfca5"
      },
      "execution_count": null,
      "outputs": [
        {
          "output_type": "stream",
          "name": "stdout",
          "text": [
            "2,4,6,8,10,12,14,16,18,"
          ]
        }
      ]
    },
    {
      "cell_type": "code",
      "source": [
        "a = [1,2,3,4,5,6,7,8,9,10,11,12,13,14,15,16]\n",
        "for i in a:\n",
        "  if i == 10 or i == 12:\n",
        "    break\n",
        "  print(i,end=\" \")\n",
        "  #can we do the multiple breaks ---> no"
      ],
      "metadata": {
        "colab": {
          "base_uri": "https://localhost:8080/"
        },
        "id": "APJEDTLnwNBm",
        "outputId": "ef2c8672-67e7-4305-a54f-d02dc61b9358"
      },
      "execution_count": null,
      "outputs": [
        {
          "output_type": "stream",
          "name": "stdout",
          "text": [
            "1 2 3 4 5 6 7 8 9 "
          ]
        }
      ]
    },
    {
      "cell_type": "code",
      "source": [
        "a = [1,2,3,4,5,6,7,8,9,10,11,12,13,14,15,16]\n",
        "for i in a:\n",
        "  if i == 10 or i == 13 or i == 15:\n",
        "    continue\n",
        "  print(i,end=\" \")\n",
        "  #can we skip the multiple iterations--> yes by using \"or\""
      ],
      "metadata": {
        "id": "ICo80TSswVvq",
        "outputId": "82e2b3fe-974d-471f-aaf5-ed999455f028",
        "colab": {
          "base_uri": "https://localhost:8080/"
        }
      },
      "execution_count": null,
      "outputs": [
        {
          "output_type": "stream",
          "name": "stdout",
          "text": [
            "1 2 3 4 5 6 7 8 9 11 12 14 16 "
          ]
        }
      ]
    },
    {
      "cell_type": "markdown",
      "source": [
        "#Collections\n"
      ],
      "metadata": {
        "id": "Srdp2JsXIFG9"
      }
    },
    {
      "cell_type": "code",
      "source": [
        "#In the collection the the data can be stored in 2 types\n",
        "#1. Heterogenous data:-  if the collection is having multiple dtypes(int,float,str..etc) inside it is known as geterogenous data\n",
        "#2. Homogenous Data:-  if the collection is having single dtype(either int or float, or str) is known as homogenous data"
      ],
      "metadata": {
        "id": "557hOh4TIHCn"
      },
      "execution_count": 2,
      "outputs": []
    },
    {
      "cell_type": "code",
      "source": [
        "#How mant types\n",
        "#1. list\n",
        "#2. Tuple\n",
        "#3. set\n",
        "#4. Dictinary"
      ],
      "metadata": {
        "id": "9MlRXFESIPME"
      },
      "execution_count": 3,
      "outputs": []
    },
    {
      "cell_type": "markdown",
      "source": [
        "**List**\n"
      ],
      "metadata": {
        "id": "wAr2yYEoISju"
      }
    },
    {
      "cell_type": "code",
      "source": [
        "#what is list?\n",
        "#list--> is odered, mutable(changable), allows the duplicate data\n",
        "#How can we create a list or decalre a list\n",
        "#list can be decalred by using [] each element in list is separated by [,]"
      ],
      "metadata": {
        "id": "8efLxtknIVyt"
      },
      "execution_count": 4,
      "outputs": []
    },
    {
      "cell_type": "markdown",
      "source": [
        "#list allows the duplicate data\n"
      ],
      "metadata": {
        "id": "PWvLY7J3IfnM"
      }
    },
    {
      "cell_type": "code",
      "source": [
        "l1 = [\"apple\",\"banana\",\"pineapple\",\"orange\",\"apple\",\"banana\"]\n",
        "print(len(l1))\n",
        "print(type(l1))\n",
        "print(l1)"
      ],
      "metadata": {
        "colab": {
          "base_uri": "https://localhost:8080/"
        },
        "id": "S_IR5o_hIhZT",
        "outputId": "f7e78c62-14fe-49d7-e4af-e43b31272115"
      },
      "execution_count": 5,
      "outputs": [
        {
          "output_type": "stream",
          "name": "stdout",
          "text": [
            "6\n",
            "<class 'list'>\n",
            "['apple', 'banana', 'pineapple', 'orange', 'apple', 'banana']\n"
          ]
        }
      ]
    },
    {
      "cell_type": "markdown",
      "source": [
        "#list is odered\n"
      ],
      "metadata": {
        "id": "B8xUJGu_JJxk"
      }
    },
    {
      "cell_type": "code",
      "source": [
        "#odered means items in the list is having a sequence of index position numbers\n",
        "#By using this index position number we are accessing the each item from the list\n",
        "#from the above list print('pineapple')\n",
        "print(l1[2])"
      ],
      "metadata": {
        "id": "vYByJ0CVWRyx",
        "colab": {
          "base_uri": "https://localhost:8080/"
        },
        "outputId": "b564d0a0-8cc6-4c61-b022-803b2b5c9a19"
      },
      "execution_count": 6,
      "outputs": [
        {
          "output_type": "stream",
          "name": "stdout",
          "text": [
            "pineapple\n"
          ]
        }
      ]
    },
    {
      "cell_type": "code",
      "source": [
        "#print the range opf item from apple to orange\n",
        "print(l1[0:4])   #end has to be n+1\n",
        "#Note:- silcing can be stop before one step to the eaxct end index position number"
      ],
      "metadata": {
        "colab": {
          "base_uri": "https://localhost:8080/"
        },
        "id": "PvRu92xk9_HF",
        "outputId": "d94c8c7d-345a-4117-91b6-38d6820c6f49"
      },
      "execution_count": 7,
      "outputs": [
        {
          "output_type": "stream",
          "name": "stdout",
          "text": [
            "['apple', 'banana', 'pineapple', 'orange']\n"
          ]
        }
      ]
    },
    {
      "cell_type": "code",
      "source": [
        "l1 = [\"apple\",\"banana\",\"pineapple\",\"orange\",\"apple\",\"banana\"]\n",
        "#print the even position item from list?\n",
        "print(l1[0:7:2])\n",
        "print(l1[::2])\n",
        "#Reverse the entire list?\n",
        "print(l1[::-1])"
      ],
      "metadata": {
        "colab": {
          "base_uri": "https://localhost:8080/"
        },
        "id": "yCkweThU-C57",
        "outputId": "c06be39d-42ff-42d1-fe26-6789eb2a75ed"
      },
      "execution_count": 8,
      "outputs": [
        {
          "output_type": "stream",
          "name": "stdout",
          "text": [
            "['apple', 'pineapple', 'apple']\n",
            "['apple', 'pineapple', 'apple']\n",
            "['banana', 'apple', 'orange', 'pineapple', 'banana', 'apple']\n"
          ]
        }
      ]
    },
    {
      "cell_type": "markdown",
      "source": [
        "list is mutable\n",
        "\n",
        "1.swap or replace the data in existing list\n",
        "\n",
        "2.add new items to the list\n",
        "\n",
        "3.remove the items from the list\n",
        ""
      ],
      "metadata": {
        "id": "Bm3EQaaV-Jmd"
      }
    },
    {
      "cell_type": "code",
      "source": [
        "#How can we swap or replace the data in existing list\n",
        "#by using the index position number\n",
        "l1 = [\"apple\",\"banana\",\"pineapple\",\"orange\",\"apple\",\"banana\"]\n",
        "#replace the 2nd apple with banana\n",
        "l1[4] = \"kiwi\"\n",
        "print(l1)"
      ],
      "metadata": {
        "colab": {
          "base_uri": "https://localhost:8080/"
        },
        "id": "nvLB6HTN-RU1",
        "outputId": "78120bc5-8a18-4023-b6f2-cf7fe6e4359c"
      },
      "execution_count": 9,
      "outputs": [
        {
          "output_type": "stream",
          "name": "stdout",
          "text": [
            "['apple', 'banana', 'pineapple', 'orange', 'kiwi', 'banana']\n"
          ]
        }
      ]
    },
    {
      "cell_type": "code",
      "source": [
        "l1[4:] = \"grapes\",\"lemmon\"\n",
        "l1"
      ],
      "metadata": {
        "colab": {
          "base_uri": "https://localhost:8080/"
        },
        "id": "IEGCcKv7-rNR",
        "outputId": "00a61e46-5cc9-4280-8ccc-df2e833de941"
      },
      "execution_count": 10,
      "outputs": [
        {
          "output_type": "execute_result",
          "data": {
            "text/plain": [
              "['apple', 'banana', 'pineapple', 'orange', 'grapes', 'lemmon']"
            ]
          },
          "metadata": {},
          "execution_count": 10
        }
      ]
    },
    {
      "cell_type": "code",
      "source": [
        "#replace 'pineapple', 'orange', with \"lemon\" and watermelon\n",
        "l1[2:4] = \"lemon\",\"watermelon\",\"mango\""
      ],
      "metadata": {
        "id": "lCpPwUjT-vtj"
      },
      "execution_count": 11,
      "outputs": []
    },
    {
      "cell_type": "code",
      "source": [
        "l2 = ['apple', 'banana', 'pineapple', 'orange', 'grapes', 'lemmon']\n",
        "l2[2:4] = \"lemon\",\"watermelon\",\"mango\",\"muskmelon\"\n",
        "l2"
      ],
      "metadata": {
        "colab": {
          "base_uri": "https://localhost:8080/"
        },
        "id": "Nt5_3iy1-zL8",
        "outputId": "42559753-21e9-4dcb-e485-e0a8abb1095f"
      },
      "execution_count": 12,
      "outputs": [
        {
          "output_type": "execute_result",
          "data": {
            "text/plain": [
              "['apple',\n",
              " 'banana',\n",
              " 'lemon',\n",
              " 'watermelon',\n",
              " 'mango',\n",
              " 'muskmelon',\n",
              " 'grapes',\n",
              " 'lemmon']"
            ]
          },
          "metadata": {},
          "execution_count": 12
        }
      ]
    },
    {
      "cell_type": "code",
      "source": [
        "l3 = ['apple', 'banana', 'pineapple', 'orange', 'grapes', 'lemmon']\n",
        "l3[2:4] = \"lemon\",\"watermelon\",\"mango\",\"muskmelon\"\n",
        "l3"
      ],
      "metadata": {
        "colab": {
          "base_uri": "https://localhost:8080/"
        },
        "id": "iux92-vK-3Sc",
        "outputId": "e7e7ad80-5277-4d36-d136-eae6756c73fb"
      },
      "execution_count": 13,
      "outputs": [
        {
          "output_type": "execute_result",
          "data": {
            "text/plain": [
              "['apple',\n",
              " 'banana',\n",
              " 'lemon',\n",
              " 'watermelon',\n",
              " 'mango',\n",
              " 'muskmelon',\n",
              " 'grapes',\n",
              " 'lemmon']"
            ]
          },
          "metadata": {},
          "execution_count": 13
        }
      ]
    },
    {
      "cell_type": "code",
      "source": [
        "l4 = ['apple', 'banana', 'pineapple', 'orange', 'grapes', 'lemmon']\n",
        "l4[2:4] = \"lemon\",\"watermelon\",\"mango\",\"muskmelon\"\n",
        "l4"
      ],
      "metadata": {
        "colab": {
          "base_uri": "https://localhost:8080/"
        },
        "id": "vE0kEpWD-7VW",
        "outputId": "410aead6-ccff-410d-f95c-b7861343db9a"
      },
      "execution_count": 14,
      "outputs": [
        {
          "output_type": "execute_result",
          "data": {
            "text/plain": [
              "['apple',\n",
              " 'banana',\n",
              " 'lemon',\n",
              " 'watermelon',\n",
              " 'mango',\n",
              " 'muskmelon',\n",
              " 'grapes',\n",
              " 'lemmon']"
            ]
          },
          "metadata": {},
          "execution_count": 14
        }
      ]
    },
    {
      "cell_type": "code",
      "source": [
        "#Note:- can we change the range of items in a list --> yes we can change\n",
        "\"\"\"l[start_index:end_index] but this is a bad practice\n",
        "if we give more than the index range items it changes or replace the items with\n",
        "existing index items so the index positions of characters can be changed\"\"\""
      ],
      "metadata": {
        "colab": {
          "base_uri": "https://localhost:8080/",
          "height": 53
        },
        "id": "zvsOACYf-87j",
        "outputId": "1058ef29-7709-4b36-e30f-fca32c9e1d2c"
      },
      "execution_count": 15,
      "outputs": [
        {
          "output_type": "execute_result",
          "data": {
            "text/plain": [
              "'l[start_index:end_index] but this is a bad practice\\nif we give more than the index range items it changes or replace the items with\\nexisting index items so the index positions of characters can be changed'"
            ],
            "application/vnd.google.colaboratory.intrinsic+json": {
              "type": "string"
            }
          },
          "metadata": {},
          "execution_count": 15
        }
      ]
    },
    {
      "cell_type": "markdown",
      "source": [
        "#Adding new items to the list\n"
      ],
      "metadata": {
        "id": "J0asEeEu_EU-"
      }
    },
    {
      "cell_type": "code",
      "source": [
        "l5 = ['apple', 'banana', 'pineapple', 'orange', 'grapes', 'lemmon']\n",
        "print(dir(l5)) #used to return method that are applicable on particular object"
      ],
      "metadata": {
        "colab": {
          "base_uri": "https://localhost:8080/"
        },
        "id": "jUzaGsOh_FQr",
        "outputId": "50679522-f075-482e-e2f8-b242d46bd213"
      },
      "execution_count": 16,
      "outputs": [
        {
          "output_type": "stream",
          "name": "stdout",
          "text": [
            "['__add__', '__class__', '__class_getitem__', '__contains__', '__delattr__', '__delitem__', '__dir__', '__doc__', '__eq__', '__format__', '__ge__', '__getattribute__', '__getitem__', '__getstate__', '__gt__', '__hash__', '__iadd__', '__imul__', '__init__', '__init_subclass__', '__iter__', '__le__', '__len__', '__lt__', '__mul__', '__ne__', '__new__', '__reduce__', '__reduce_ex__', '__repr__', '__reversed__', '__rmul__', '__setattr__', '__setitem__', '__sizeof__', '__str__', '__subclasshook__', 'append', 'clear', 'copy', 'count', 'extend', 'index', 'insert', 'pop', 'remove', 'reverse', 'sort']\n"
          ]
        }
      ]
    },
    {
      "cell_type": "code",
      "source": [
        "\"\"\"'append', 'clear', 'copy', 'count', 'extend', 'index',\n",
        "'insert', 'pop', 'remove', 'reverse', 'sort' \"\"\""
      ],
      "metadata": {
        "colab": {
          "base_uri": "https://localhost:8080/",
          "height": 36
        },
        "id": "zDi2O5IM_MK0",
        "outputId": "6b341385-099a-459e-c87a-3e89d46d4343"
      },
      "execution_count": 17,
      "outputs": [
        {
          "output_type": "execute_result",
          "data": {
            "text/plain": [
              "\"'append', 'clear', 'copy', 'count', 'extend', 'index',\\n'insert', 'pop', 'remove', 'reverse', 'sort' \""
            ],
            "application/vnd.google.colaboratory.intrinsic+json": {
              "type": "string"
            }
          },
          "metadata": {},
          "execution_count": 17
        }
      ]
    },
    {
      "cell_type": "code",
      "source": [
        "l5 = ['apple', 'banana', 'pineapple', 'orange', 'grapes', 'lemmon']\n",
        "#append():- by default it adds the items at the end or last of list\n",
        "#what is the default index position when you use the append()?\n",
        "#add \"mango\" into l5\n",
        "l5.append('mango')\n",
        "print(l5)\n",
        "#Note:- we caanot add more than one item in the append method"
      ],
      "metadata": {
        "colab": {
          "base_uri": "https://localhost:8080/"
        },
        "id": "YOSO3Npp_Qg6",
        "outputId": "19882f0b-5bf0-4b63-c62b-a1662d15ac7e"
      },
      "execution_count": 18,
      "outputs": [
        {
          "output_type": "stream",
          "name": "stdout",
          "text": [
            "['apple', 'banana', 'pineapple', 'orange', 'grapes', 'lemmon', 'mango']\n"
          ]
        }
      ]
    },
    {
      "cell_type": "code",
      "source": [
        "#How to add a item at particular index position?\n",
        "#insert(index,\"item_name\")\n",
        "#add  \"watermelon\" at second index position\n",
        "l5.insert(2,\"watermelon\")\n",
        "print(l5)\n",
        "#can we insert multiple items at a time--> No beacuse insert takes only 2 arguments"
      ],
      "metadata": {
        "colab": {
          "base_uri": "https://localhost:8080/"
        },
        "id": "ZL0uhJta_VTS",
        "outputId": "e14980bc-aef6-4196-fbd6-6ff6d8728f1e"
      },
      "execution_count": 19,
      "outputs": [
        {
          "output_type": "stream",
          "name": "stdout",
          "text": [
            "['apple', 'banana', 'watermelon', 'pineapple', 'orange', 'grapes', 'lemmon', 'mango']\n"
          ]
        }
      ]
    },
    {
      "cell_type": "code",
      "source": [
        "#Extend(collection name):-add multiple items in to list\n",
        "#by default extend method add items at the end of the list\n",
        "l6 = [1,2,3,4,5]\n",
        "l5.extend(l6)\n",
        "print(l5)"
      ],
      "metadata": {
        "colab": {
          "base_uri": "https://localhost:8080/"
        },
        "id": "casFcKXZ_Y_P",
        "outputId": "a034c2b0-3b33-4e35-b56c-9b8195996a80"
      },
      "execution_count": 20,
      "outputs": [
        {
          "output_type": "stream",
          "name": "stdout",
          "text": [
            "['apple', 'banana', 'watermelon', 'pineapple', 'orange', 'grapes', 'lemmon', 'mango', 1, 2, 3, 4, 5]\n"
          ]
        }
      ]
    },
    {
      "cell_type": "code",
      "source": [
        "l5.insert(0,'berries')\n",
        "print(l5)"
      ],
      "metadata": {
        "colab": {
          "base_uri": "https://localhost:8080/"
        },
        "id": "UoyHC2II_ca9",
        "outputId": "91b7905f-381a-4aa6-9759-d11fec96c756"
      },
      "execution_count": 21,
      "outputs": [
        {
          "output_type": "stream",
          "name": "stdout",
          "text": [
            "['berries', 'apple', 'banana', 'watermelon', 'pineapple', 'orange', 'grapes', 'lemmon', 'mango', 1, 2, 3, 4, 5]\n"
          ]
        }
      ]
    },
    {
      "cell_type": "code",
      "source": [
        "l5[1] =\"kiwi\"\n",
        "print(l5)"
      ],
      "metadata": {
        "colab": {
          "base_uri": "https://localhost:8080/"
        },
        "id": "ZHd2W_Au_ffK",
        "outputId": "2a468845-bcfd-4746-af31-648e95994ea7"
      },
      "execution_count": 22,
      "outputs": [
        {
          "output_type": "stream",
          "name": "stdout",
          "text": [
            "['berries', 'kiwi', 'banana', 'watermelon', 'pineapple', 'orange', 'grapes', 'lemmon', 'mango', 1, 2, 3, 4, 5]\n"
          ]
        }
      ]
    },
    {
      "cell_type": "markdown",
      "source": [
        "#remove items from the lsit\n"
      ],
      "metadata": {
        "id": "8k0mIhaD_jtw"
      }
    },
    {
      "cell_type": "code",
      "source": [
        "l7 = ['berries', 'kiwi', 'apple', 'banana', 'watermelon', 'pineapple', 'orange', 'grapes', 'lemmon', 'mango']\n",
        "#1.pop(index_position number) by default it remove last element from the list\n",
        "l7.pop()\n",
        "print(l7)"
      ],
      "metadata": {
        "colab": {
          "base_uri": "https://localhost:8080/"
        },
        "id": "a64MrmXU_k3o",
        "outputId": "526b5b05-db8a-43ad-a11a-e413be4f0a57"
      },
      "execution_count": 23,
      "outputs": [
        {
          "output_type": "stream",
          "name": "stdout",
          "text": [
            "['berries', 'kiwi', 'apple', 'banana', 'watermelon', 'pineapple', 'orange', 'grapes', 'lemmon']\n"
          ]
        }
      ]
    },
    {
      "cell_type": "code",
      "source": [
        "l7.pop(0)\n",
        "l7"
      ],
      "metadata": {
        "colab": {
          "base_uri": "https://localhost:8080/"
        },
        "id": "JO-88rlR_0dX",
        "outputId": "08f6b3f9-236f-458a-b51a-dda39f85e0dd"
      },
      "execution_count": 24,
      "outputs": [
        {
          "output_type": "execute_result",
          "data": {
            "text/plain": [
              "['kiwi',\n",
              " 'apple',\n",
              " 'banana',\n",
              " 'watermelon',\n",
              " 'pineapple',\n",
              " 'orange',\n",
              " 'grapes',\n",
              " 'lemmon']"
            ]
          },
          "metadata": {},
          "execution_count": 24
        }
      ]
    },
    {
      "cell_type": "code",
      "source": [
        "#remove(item name\n",
        "l7.remove('watermelon')\n",
        "print(l7)"
      ],
      "metadata": {
        "colab": {
          "base_uri": "https://localhost:8080/"
        },
        "id": "I-HYj3F3_4EI",
        "outputId": "e457d455-de37-4fa0-9f71-ebcc0457dd1e"
      },
      "execution_count": 25,
      "outputs": [
        {
          "output_type": "stream",
          "name": "stdout",
          "text": [
            "['kiwi', 'apple', 'banana', 'pineapple', 'orange', 'grapes', 'lemmon']\n"
          ]
        }
      ]
    },
    {
      "cell_type": "code",
      "source": [
        "l7.remove() #list.remove() takes exactly one argument (0 given)\n",
        "l7"
      ],
      "metadata": {
        "colab": {
          "base_uri": "https://localhost:8080/",
          "height": 158
        },
        "id": "mRiAxMNG_71j",
        "outputId": "25c4b1cc-8aef-4712-b0e7-d99d4e62a711"
      },
      "execution_count": 27,
      "outputs": [
        {
          "output_type": "error",
          "ename": "TypeError",
          "evalue": "list.remove() takes exactly one argument (0 given)",
          "traceback": [
            "\u001b[0;31m---------------------------------------------------------------------------\u001b[0m",
            "\u001b[0;31mTypeError\u001b[0m                                 Traceback (most recent call last)",
            "\u001b[0;32m<ipython-input-27-6961bcc442a6>\u001b[0m in \u001b[0;36m<cell line: 0>\u001b[0;34m()\u001b[0m\n\u001b[0;32m----> 1\u001b[0;31m \u001b[0ml7\u001b[0m\u001b[0;34m.\u001b[0m\u001b[0mremove\u001b[0m\u001b[0;34m(\u001b[0m\u001b[0;34m)\u001b[0m \u001b[0;31m#list.remove() takes exactly one argument (0 given)\u001b[0m\u001b[0;34m\u001b[0m\u001b[0;34m\u001b[0m\u001b[0m\n\u001b[0m\u001b[1;32m      2\u001b[0m \u001b[0ml7\u001b[0m\u001b[0;34m\u001b[0m\u001b[0;34m\u001b[0m\u001b[0m\n",
            "\u001b[0;31mTypeError\u001b[0m: list.remove() takes exactly one argument (0 given)"
          ]
        }
      ]
    },
    {
      "cell_type": "code",
      "source": [
        "#how can remove the multiple items from the list?\n",
        "# use \"del collection_name[startindex:end index]\n",
        "l8 = ['kiwi', 'apple', 'banana', 'pineapple', 'orange', 'grapes']\n",
        "#remove \"'apple', 'banana', 'pineapple'\n",
        "del l8[1:4]\n",
        "print(l8)\n",
        "# del l8[::2] even\n",
        "# del l8[1::2] odd"
      ],
      "metadata": {
        "colab": {
          "base_uri": "https://localhost:8080/"
        },
        "id": "GLHQz--4AB5Y",
        "outputId": "89a0121f-f6d1-44b2-af2c-72e73366ede9"
      },
      "execution_count": 28,
      "outputs": [
        {
          "output_type": "stream",
          "name": "stdout",
          "text": [
            "['kiwi', 'orange', 'grapes']\n"
          ]
        }
      ]
    },
    {
      "cell_type": "code",
      "source": [
        "l8 = ['kiwi', 'apple', 'banana', 'pineapple', 'orange', 'grapes']\n",
        "del l8[1::2]\n",
        "print(l8)"
      ],
      "metadata": {
        "colab": {
          "base_uri": "https://localhost:8080/"
        },
        "id": "JUtN2HR5AFV6",
        "outputId": "5daabb71-9ff1-4b3a-86bf-22681890d3f9"
      },
      "execution_count": 29,
      "outputs": [
        {
          "output_type": "stream",
          "name": "stdout",
          "text": [
            "['kiwi', 'banana', 'orange']\n"
          ]
        }
      ]
    },
    {
      "cell_type": "code",
      "source": [
        "l8"
      ],
      "metadata": {
        "colab": {
          "base_uri": "https://localhost:8080/"
        },
        "id": "yk23why4ANQI",
        "outputId": "13581a0c-594c-44be-a9df-3ee04485da97"
      },
      "execution_count": 30,
      "outputs": [
        {
          "output_type": "execute_result",
          "data": {
            "text/plain": [
              "['kiwi', 'banana', 'orange']"
            ]
          },
          "metadata": {},
          "execution_count": 30
        }
      ]
    },
    {
      "cell_type": "code",
      "source": [
        "#how clear entire data from l8\n",
        "l8.clear()\n",
        "print(l8)"
      ],
      "metadata": {
        "colab": {
          "base_uri": "https://localhost:8080/"
        },
        "id": "4RYsg0HzARKC",
        "outputId": "832ea205-6a50-444c-b24d-347a8a8ee634"
      },
      "execution_count": 31,
      "outputs": [
        {
          "output_type": "stream",
          "name": "stdout",
          "text": [
            "[]\n"
          ]
        }
      ]
    },
    {
      "cell_type": "markdown",
      "source": [
        "#Tuples\n"
      ],
      "metadata": {
        "id": "VGfTljUMAu6e"
      }
    },
    {
      "cell_type": "code",
      "source": [
        "#what is tuple?\n",
        "#how can you define a tuple?\n",
        "#tuples can be decalred in () each element in tuple is serated by (,)\n",
        "#Tuple is defined as --> odered, immutable(unchangable), allows the duplicates"
      ],
      "metadata": {
        "id": "zX1JoN40AwFd"
      },
      "execution_count": 35,
      "outputs": []
    },
    {
      "cell_type": "markdown",
      "source": [
        "**tuple allows the duplicates**\n"
      ],
      "metadata": {
        "id": "n3SJiuxTDTb-"
      }
    },
    {
      "cell_type": "code",
      "source": [
        "t1 = ('kiwi', 'apple', 'banana', 'pineapple', 'orange', 'grapes','kiwi','apple')\n",
        "print(len(t1))\n",
        "print(type(t1))"
      ],
      "metadata": {
        "colab": {
          "base_uri": "https://localhost:8080/"
        },
        "id": "6xlLJUr-DYKS",
        "outputId": "08f57e62-47cb-4686-c995-166c6f9e620e"
      },
      "execution_count": 36,
      "outputs": [
        {
          "output_type": "stream",
          "name": "stdout",
          "text": [
            "8\n",
            "<class 'tuple'>\n"
          ]
        }
      ]
    },
    {
      "cell_type": "markdown",
      "source": [
        "**Tuple is odered**"
      ],
      "metadata": {
        "id": "rqcw8bR-Db0C"
      }
    },
    {
      "cell_type": "code",
      "source": [
        "#odered:- each element in the tuple is having sequence of index position numbers\n",
        "print(t1[2])\n",
        "print(t1[-1])\n",
        "#'banana', 'pineapple', 'orange', 'grapes'\n",
        "print(t1[2:6])\n",
        "print(t1[::2])\n",
        "print(t1[1::2])\n",
        "#reverse t1\n",
        "print(t1[::-1])"
      ],
      "metadata": {
        "colab": {
          "base_uri": "https://localhost:8080/"
        },
        "id": "aPZaCRSlDdMl",
        "outputId": "290649d7-c0b1-481f-ae04-e396ddff6d63"
      },
      "execution_count": 37,
      "outputs": [
        {
          "output_type": "stream",
          "name": "stdout",
          "text": [
            "banana\n",
            "apple\n",
            "('banana', 'pineapple', 'orange', 'grapes')\n",
            "('kiwi', 'banana', 'orange', 'kiwi')\n",
            "('apple', 'pineapple', 'grapes', 'apple')\n",
            "('apple', 'kiwi', 'grapes', 'orange', 'pineapple', 'banana', 'apple', 'kiwi')\n"
          ]
        }
      ]
    },
    {
      "cell_type": "markdown",
      "source": [
        "**Tuple is immuatble**\n"
      ],
      "metadata": {
        "id": "BF6uCMpQDjz_"
      }
    },
    {
      "cell_type": "code",
      "source": [
        "#means we cannot replace, add, remove the items from the tuple\n",
        "print(dir(t1))\n",
        "#'count', 'index'"
      ],
      "metadata": {
        "colab": {
          "base_uri": "https://localhost:8080/"
        },
        "id": "W7sZDYOyDlTv",
        "outputId": "efaf5017-9887-456e-ad96-7328a8ceb6df"
      },
      "execution_count": 38,
      "outputs": [
        {
          "output_type": "stream",
          "name": "stdout",
          "text": [
            "['__add__', '__class__', '__class_getitem__', '__contains__', '__delattr__', '__dir__', '__doc__', '__eq__', '__format__', '__ge__', '__getattribute__', '__getitem__', '__getnewargs__', '__getstate__', '__gt__', '__hash__', '__init__', '__init_subclass__', '__iter__', '__le__', '__len__', '__lt__', '__mul__', '__ne__', '__new__', '__reduce__', '__reduce_ex__', '__repr__', '__rmul__', '__setattr__', '__sizeof__', '__str__', '__subclasshook__', 'count', 'index']\n"
          ]
        }
      ]
    },
    {
      "cell_type": "markdown",
      "source": [
        "#set\n"
      ],
      "metadata": {
        "id": "2EFlt51kDqs0"
      }
    },
    {
      "cell_type": "code",
      "source": [
        "#what is set? and how can you define set\n",
        "#set is decalred {} and elements in the set is seprated by {,}\n",
        "#set is unodered, immutable, don't allow duplicates"
      ],
      "metadata": {
        "id": "WjB9wHVKDr7K"
      },
      "execution_count": 39,
      "outputs": []
    },
    {
      "cell_type": "markdown",
      "source": [
        "**set wont allow duplicates**"
      ],
      "metadata": {
        "id": "yDo0jeQODyZ0"
      }
    },
    {
      "cell_type": "code",
      "source": [
        "s1 = {1,2,3,4,5,6,7,1,2,3,4,5,9}\n",
        "#what is length of s1\n",
        "print(len(s1))\n",
        "print(type(s1))\n",
        "print(s1)"
      ],
      "metadata": {
        "colab": {
          "base_uri": "https://localhost:8080/"
        },
        "id": "BrR8vvgbD0JB",
        "outputId": "c04c493d-f232-411e-dda7-461397fc76f1"
      },
      "execution_count": 40,
      "outputs": [
        {
          "output_type": "stream",
          "name": "stdout",
          "text": [
            "8\n",
            "<class 'set'>\n",
            "{1, 2, 3, 4, 5, 6, 7, 9}\n"
          ]
        }
      ]
    },
    {
      "cell_type": "markdown",
      "source": [
        "**set is unordered**"
      ],
      "metadata": {
        "id": "CDe6WTuZD5__"
      }
    },
    {
      "cell_type": "code",
      "source": [
        "s2={'apple',\"bananan\",\"kiwi\"}\n",
        "print(s2[0]) #'set' object is not subscriptable"
      ],
      "metadata": {
        "colab": {
          "base_uri": "https://localhost:8080/",
          "height": 158
        },
        "id": "8tiCOW9-D7x-",
        "outputId": "c357c88b-c93e-455a-bb84-9028d3ae783b"
      },
      "execution_count": 41,
      "outputs": [
        {
          "output_type": "error",
          "ename": "TypeError",
          "evalue": "'set' object is not subscriptable",
          "traceback": [
            "\u001b[0;31m---------------------------------------------------------------------------\u001b[0m",
            "\u001b[0;31mTypeError\u001b[0m                                 Traceback (most recent call last)",
            "\u001b[0;32m<ipython-input-41-28be9f95f84e>\u001b[0m in \u001b[0;36m<cell line: 0>\u001b[0;34m()\u001b[0m\n\u001b[1;32m      1\u001b[0m \u001b[0ms2\u001b[0m\u001b[0;34m=\u001b[0m\u001b[0;34m{\u001b[0m\u001b[0;34m'apple'\u001b[0m\u001b[0;34m,\u001b[0m\u001b[0;34m\"bananan\"\u001b[0m\u001b[0;34m,\u001b[0m\u001b[0;34m\"kiwi\"\u001b[0m\u001b[0;34m}\u001b[0m\u001b[0;34m\u001b[0m\u001b[0;34m\u001b[0m\u001b[0m\n\u001b[0;32m----> 2\u001b[0;31m \u001b[0mprint\u001b[0m\u001b[0;34m(\u001b[0m\u001b[0ms2\u001b[0m\u001b[0;34m[\u001b[0m\u001b[0;36m0\u001b[0m\u001b[0;34m]\u001b[0m\u001b[0;34m)\u001b[0m \u001b[0;31m#'set' object is not subscriptable\u001b[0m\u001b[0;34m\u001b[0m\u001b[0;34m\u001b[0m\u001b[0m\n\u001b[0m",
            "\u001b[0;31mTypeError\u001b[0m: 'set' object is not subscriptable"
          ]
        }
      ]
    },
    {
      "cell_type": "code",
      "source": [
        "a = input()\n",
        "print(a[::-1])"
      ],
      "metadata": {
        "colab": {
          "base_uri": "https://localhost:8080/"
        },
        "id": "_wLcoHZIED5O",
        "outputId": "c4e23975-89d0-4323-8486-1ed1d6c32e9d"
      },
      "execution_count": 43,
      "outputs": [
        {
          "output_type": "stream",
          "name": "stdout",
          "text": [
            "madam\n",
            "madam\n"
          ]
        }
      ]
    },
    {
      "cell_type": "markdown",
      "source": [
        "#set is Immutable\n",
        "\n",
        "1. in sets we cannot replace or swap the items but\n",
        "\n",
        "2. we can add the new items or data to the sets\n",
        "\n",
        "3. And we can remove the elements from the sets"
      ],
      "metadata": {
        "id": "yFHHKqUqEMqW"
      }
    },
    {
      "cell_type": "markdown",
      "source": [
        "**sets we cannot replace or swap the items**"
      ],
      "metadata": {
        "id": "h0ktEFRpEjeP"
      }
    },
    {
      "cell_type": "code",
      "source": [
        "s2 ={\"python\",\"java\",\"c++\",\"c\",\"c\",\"c\"}\n",
        "print(len(s2))\n",
        "s2[4] = 'R'\n",
        "print(s2)\n",
        "#Note:- we cannot replace the items in the set becuase sets are unordered means iteams in the set doesn't index position number"
      ],
      "metadata": {
        "colab": {
          "base_uri": "https://localhost:8080/",
          "height": 228
        },
        "id": "BaoU9SsBEbp2",
        "outputId": "73fa5638-65bb-4c04-d4c4-26a3da6eabc0"
      },
      "execution_count": 44,
      "outputs": [
        {
          "output_type": "stream",
          "name": "stdout",
          "text": [
            "4\n"
          ]
        },
        {
          "output_type": "error",
          "ename": "TypeError",
          "evalue": "'set' object does not support item assignment",
          "traceback": [
            "\u001b[0;31m---------------------------------------------------------------------------\u001b[0m",
            "\u001b[0;31mTypeError\u001b[0m                                 Traceback (most recent call last)",
            "\u001b[0;32m<ipython-input-44-fb21140d67dd>\u001b[0m in \u001b[0;36m<cell line: 0>\u001b[0;34m()\u001b[0m\n\u001b[1;32m      1\u001b[0m \u001b[0ms2\u001b[0m \u001b[0;34m=\u001b[0m\u001b[0;34m{\u001b[0m\u001b[0;34m\"python\"\u001b[0m\u001b[0;34m,\u001b[0m\u001b[0;34m\"java\"\u001b[0m\u001b[0;34m,\u001b[0m\u001b[0;34m\"c++\"\u001b[0m\u001b[0;34m,\u001b[0m\u001b[0;34m\"c\"\u001b[0m\u001b[0;34m,\u001b[0m\u001b[0;34m\"c\"\u001b[0m\u001b[0;34m,\u001b[0m\u001b[0;34m\"c\"\u001b[0m\u001b[0;34m}\u001b[0m\u001b[0;34m\u001b[0m\u001b[0;34m\u001b[0m\u001b[0m\n\u001b[1;32m      2\u001b[0m \u001b[0mprint\u001b[0m\u001b[0;34m(\u001b[0m\u001b[0mlen\u001b[0m\u001b[0;34m(\u001b[0m\u001b[0ms2\u001b[0m\u001b[0;34m)\u001b[0m\u001b[0;34m)\u001b[0m\u001b[0;34m\u001b[0m\u001b[0;34m\u001b[0m\u001b[0m\n\u001b[0;32m----> 3\u001b[0;31m \u001b[0ms2\u001b[0m\u001b[0;34m[\u001b[0m\u001b[0;36m4\u001b[0m\u001b[0;34m]\u001b[0m \u001b[0;34m=\u001b[0m \u001b[0;34m'R'\u001b[0m\u001b[0;34m\u001b[0m\u001b[0;34m\u001b[0m\u001b[0m\n\u001b[0m\u001b[1;32m      4\u001b[0m \u001b[0mprint\u001b[0m\u001b[0;34m(\u001b[0m\u001b[0ms2\u001b[0m\u001b[0;34m)\u001b[0m\u001b[0;34m\u001b[0m\u001b[0;34m\u001b[0m\u001b[0m\n\u001b[1;32m      5\u001b[0m \u001b[0;31m#Note:- we cannot replace the items in the set becuase sets are unordered means iteams in the set doesn't index position number\u001b[0m\u001b[0;34m\u001b[0m\u001b[0;34m\u001b[0m\u001b[0m\n",
            "\u001b[0;31mTypeError\u001b[0m: 'set' object does not support item assignment"
          ]
        }
      ]
    },
    {
      "cell_type": "markdown",
      "source": [
        "**How can we can add the new items or data to the sets**"
      ],
      "metadata": {
        "id": "UaH8le1cEtCo"
      }
    },
    {
      "cell_type": "code",
      "source": [
        "dir(s2)\n",
        "# \"\"\"'add', 'clear', 'copy', 'difference', 'difference_update', 'discard', 'intersection',\n",
        "dir(s2)\n",
        "# \"\"\"'add', 'clear', 'copy', 'difference', 'difference_update', 'discard', 'intersection',\n",
        "# 'intersection_update', 'isdisjoint', 'issubset', 'issuperset', 'pop', 'remove',\n",
        "# 'symmetric_difference', 'symmetric_difference_update', 'union', 'update' \"\"\"\n",
        "# 'symmetric_difference', 'symmetric_difference_update', 'union', 'update' \"\"\""
      ],
      "metadata": {
        "colab": {
          "base_uri": "https://localhost:8080/"
        },
        "id": "YTPku3RoEuK2",
        "outputId": "08d191cc-c7d5-4e47-d2f5-1507230ea98f"
      },
      "execution_count": 47,
      "outputs": [
        {
          "output_type": "execute_result",
          "data": {
            "text/plain": [
              "['__and__',\n",
              " '__class__',\n",
              " '__class_getitem__',\n",
              " '__contains__',\n",
              " '__delattr__',\n",
              " '__dir__',\n",
              " '__doc__',\n",
              " '__eq__',\n",
              " '__format__',\n",
              " '__ge__',\n",
              " '__getattribute__',\n",
              " '__getstate__',\n",
              " '__gt__',\n",
              " '__hash__',\n",
              " '__iand__',\n",
              " '__init__',\n",
              " '__init_subclass__',\n",
              " '__ior__',\n",
              " '__isub__',\n",
              " '__iter__',\n",
              " '__ixor__',\n",
              " '__le__',\n",
              " '__len__',\n",
              " '__lt__',\n",
              " '__ne__',\n",
              " '__new__',\n",
              " '__or__',\n",
              " '__rand__',\n",
              " '__reduce__',\n",
              " '__reduce_ex__',\n",
              " '__repr__',\n",
              " '__ror__',\n",
              " '__rsub__',\n",
              " '__rxor__',\n",
              " '__setattr__',\n",
              " '__sizeof__',\n",
              " '__str__',\n",
              " '__sub__',\n",
              " '__subclasshook__',\n",
              " '__xor__',\n",
              " 'add',\n",
              " 'clear',\n",
              " 'copy',\n",
              " 'difference',\n",
              " 'difference_update',\n",
              " 'discard',\n",
              " 'intersection',\n",
              " 'intersection_update',\n",
              " 'isdisjoint',\n",
              " 'issubset',\n",
              " 'issuperset',\n",
              " 'pop',\n",
              " 'remove',\n",
              " 'symmetric_difference',\n",
              " 'symmetric_difference_update',\n",
              " 'union',\n",
              " 'update']"
            ]
          },
          "metadata": {},
          "execution_count": 47
        }
      ]
    },
    {
      "cell_type": "code",
      "source": [
        "#add() in sets if we add data it doesnot have any indexposition and it can store any where in the set\n",
        "s3 = {2,3,4,5,6,1,9,8,7}\n",
        "s3.add(10)\n",
        "print(s3)\n",
        "#can we add a string into set of numbers-->yes\n",
        "s3.add('hello')\n",
        "print(s3)"
      ],
      "metadata": {
        "colab": {
          "base_uri": "https://localhost:8080/"
        },
        "id": "yvzwxHDoE7ih",
        "outputId": "e0f5964a-426b-43c8-9b73-af5cbbd94673"
      },
      "execution_count": 48,
      "outputs": [
        {
          "output_type": "stream",
          "name": "stdout",
          "text": [
            "{1, 2, 3, 4, 5, 6, 7, 8, 9, 10}\n",
            "{1, 2, 3, 4, 5, 6, 7, 8, 9, 10, 'hello'}\n"
          ]
        }
      ]
    },
    {
      "cell_type": "code",
      "source": [
        "s4= {\"apple\",\"banana\",\"kiwi\"}\n",
        "s4.add('Cherries')\n",
        "print(s4)"
      ],
      "metadata": {
        "colab": {
          "base_uri": "https://localhost:8080/"
        },
        "id": "t8O12d9iFBft",
        "outputId": "77e12115-624b-42aa-f1e7-be5a08528ca2"
      },
      "execution_count": 49,
      "outputs": [
        {
          "output_type": "stream",
          "name": "stdout",
          "text": [
            "{'kiwi', 'apple', 'banana', 'Cherries'}\n"
          ]
        }
      ]
    },
    {
      "cell_type": "code",
      "source": [
        "#How to add the multiple items in set?\n",
        "#what is the default index position when you add multiple items\n",
        "#no indexposition bcz it is unordered"
      ],
      "metadata": {
        "id": "YD-2cJqIFFas"
      },
      "execution_count": 50,
      "outputs": []
    },
    {
      "cell_type": "code",
      "source": [
        "#by using \"update\"\n",
        "s5 ={'banana', 'kiwi', 'apple', 'Cherries'}\n",
        "s6 = {1,2,3,4,5,6}\n",
        "s5.update(s6)\n",
        "print(s5)"
      ],
      "metadata": {
        "colab": {
          "base_uri": "https://localhost:8080/"
        },
        "id": "YM6kTXnIFJI8",
        "outputId": "5b4fe1c3-bf54-421d-e03b-5a4c29fe2374"
      },
      "execution_count": 52,
      "outputs": [
        {
          "output_type": "stream",
          "name": "stdout",
          "text": [
            "{1, 2, 3, 4, 5, 6, 'Cherries', 'kiwi', 'apple', 'banana'}\n"
          ]
        }
      ]
    },
    {
      "cell_type": "markdown",
      "source": [
        "**How to remove the items from set?**"
      ],
      "metadata": {
        "id": "pW3KqztlFlNg"
      }
    },
    {
      "cell_type": "code",
      "source": [
        "s7 = {'banana', 1, 2, 3, 4, 5, 6, 'kiwi', 'apple', 'Cherries'}\n",
        "#i want to remove \"4\" from above set\n",
        "print(s7.pop()) #pop() is a bad practice"
      ],
      "metadata": {
        "colab": {
          "base_uri": "https://localhost:8080/"
        },
        "id": "V7ShSdAQFm3_",
        "outputId": "ae534ce8-d454-492f-f490-2760ac7fa869"
      },
      "execution_count": 53,
      "outputs": [
        {
          "output_type": "stream",
          "name": "stdout",
          "text": [
            "1\n"
          ]
        }
      ]
    },
    {
      "cell_type": "code",
      "source": [
        "print(s7)"
      ],
      "metadata": {
        "colab": {
          "base_uri": "https://localhost:8080/"
        },
        "id": "vfvhVtPSFtaz",
        "outputId": "28257362-9bec-4fab-a350-cb67c4023f84"
      },
      "execution_count": 54,
      "outputs": [
        {
          "output_type": "stream",
          "name": "stdout",
          "text": [
            "{2, 3, 4, 5, 6, 'Cherries', 'kiwi', 'apple', 'banana'}\n"
          ]
        }
      ]
    },
    {
      "cell_type": "code",
      "source": [
        "#remove(item name)\n",
        "s7.remove(4)\n",
        "print(s7)"
      ],
      "metadata": {
        "colab": {
          "base_uri": "https://localhost:8080/"
        },
        "id": "N50AQNsLFxbU",
        "outputId": "4dc8bbcf-fe65-41fb-f424-9f15f7c822bb"
      },
      "execution_count": 55,
      "outputs": [
        {
          "output_type": "stream",
          "name": "stdout",
          "text": [
            "{2, 3, 5, 6, 'Cherries', 'kiwi', 'apple', 'banana'}\n"
          ]
        }
      ]
    },
    {
      "cell_type": "code",
      "source": [
        "s7.remove('kiwi')\n",
        "print(s7)"
      ],
      "metadata": {
        "colab": {
          "base_uri": "https://localhost:8080/"
        },
        "id": "C08pcpQOF03O",
        "outputId": "1992fb6e-a4aa-4cc6-d06f-13735323e960"
      },
      "execution_count": 56,
      "outputs": [
        {
          "output_type": "stream",
          "name": "stdout",
          "text": [
            "{2, 3, 5, 6, 'Cherries', 'apple', 'banana'}\n"
          ]
        }
      ]
    },
    {
      "cell_type": "code",
      "source": [
        "s7.discard('apple')\n",
        "print(s7)"
      ],
      "metadata": {
        "colab": {
          "base_uri": "https://localhost:8080/"
        },
        "id": "BLnZOf4FF36D",
        "outputId": "339cfdee-36c9-4cf7-cb8e-32125217ff5c"
      },
      "execution_count": 57,
      "outputs": [
        {
          "output_type": "stream",
          "name": "stdout",
          "text": [
            "{2, 3, 5, 6, 'Cherries', 'banana'}\n"
          ]
        }
      ]
    },
    {
      "cell_type": "code",
      "source": [
        "#what is the dofference between \"remove()\" and \"discard()\"?\n",
        "#remove() if the item or data is present then it removes otherwise it rises an error\n",
        "#discard() if the items present or not it wont rise the error"
      ],
      "metadata": {
        "id": "N_L86t4DF7rZ"
      },
      "execution_count": 58,
      "outputs": []
    },
    {
      "cell_type": "code",
      "source": [
        "#can we delete the reange of items from the set---> no\n",
        "#can we delete entire set---> yes\n",
        "del s7\n",
        "print(s7)"
      ],
      "metadata": {
        "colab": {
          "base_uri": "https://localhost:8080/",
          "height": 193
        },
        "id": "C8QKNVzHF-3v",
        "outputId": "f9080c07-ac67-49d2-acf7-3baf023e030e"
      },
      "execution_count": 60,
      "outputs": [
        {
          "output_type": "error",
          "ename": "NameError",
          "evalue": "name 's7' is not defined",
          "traceback": [
            "\u001b[0;31m---------------------------------------------------------------------------\u001b[0m",
            "\u001b[0;31mNameError\u001b[0m                                 Traceback (most recent call last)",
            "\u001b[0;32m<ipython-input-60-3f6081f9b3bb>\u001b[0m in \u001b[0;36m<cell line: 0>\u001b[0;34m()\u001b[0m\n\u001b[1;32m      1\u001b[0m \u001b[0;31m#can we delete the reange of items from the set---> no\u001b[0m\u001b[0;34m\u001b[0m\u001b[0;34m\u001b[0m\u001b[0m\n\u001b[1;32m      2\u001b[0m \u001b[0;31m#can we delete entire set---> yes\u001b[0m\u001b[0;34m\u001b[0m\u001b[0;34m\u001b[0m\u001b[0m\n\u001b[0;32m----> 3\u001b[0;31m \u001b[0;32mdel\u001b[0m \u001b[0ms7\u001b[0m\u001b[0;34m\u001b[0m\u001b[0;34m\u001b[0m\u001b[0m\n\u001b[0m\u001b[1;32m      4\u001b[0m \u001b[0mprint\u001b[0m\u001b[0;34m(\u001b[0m\u001b[0ms7\u001b[0m\u001b[0;34m)\u001b[0m\u001b[0;34m\u001b[0m\u001b[0;34m\u001b[0m\u001b[0m\n",
            "\u001b[0;31mNameError\u001b[0m: name 's7' is not defined"
          ]
        }
      ]
    },
    {
      "cell_type": "code",
      "source": [
        "s1 = {\"a\",\"b\",\"c\",\"d\"}\n",
        "s2 = {\"d\",\"e\",\"f\",\"g\"}\n",
        "s1.intersection(s2)"
      ],
      "metadata": {
        "colab": {
          "base_uri": "https://localhost:8080/"
        },
        "id": "pY-0T8Y-GNp9",
        "outputId": "d201e845-4324-4da9-84d5-83dad71f209f"
      },
      "execution_count": 61,
      "outputs": [
        {
          "output_type": "execute_result",
          "data": {
            "text/plain": [
              "{'d'}"
            ]
          },
          "metadata": {},
          "execution_count": 61
        }
      ]
    },
    {
      "cell_type": "code",
      "source": [
        "s1.union(s2)"
      ],
      "metadata": {
        "colab": {
          "base_uri": "https://localhost:8080/"
        },
        "id": "YXK1lMdIGQpc",
        "outputId": "0da731a6-5099-485a-b4b9-288935f7a322"
      },
      "execution_count": 62,
      "outputs": [
        {
          "output_type": "execute_result",
          "data": {
            "text/plain": [
              "{'a', 'b', 'c', 'd', 'e', 'f', 'g'}"
            ]
          },
          "metadata": {},
          "execution_count": 62
        }
      ]
    },
    {
      "cell_type": "markdown",
      "source": [
        "#Dictionary\n"
      ],
      "metadata": {
        "id": "_f2PJVU_GR1L"
      }
    },
    {
      "cell_type": "code",
      "source": [
        "#what is dictionary and how can you define it?\n",
        "#how can we decalre a dictionary?\n",
        "#where you can store the data in dictionary?\n",
        "#dictionary can be declared {},each item is sperated {,} comma\n",
        "#{key:value} pairs\n",
        "#dictionary is unordered, it won't allows duplicates, mutable(changable)"
      ],
      "metadata": {
        "id": "0aLnkFWRGYie"
      },
      "execution_count": 63,
      "outputs": []
    },
    {
      "cell_type": "code",
      "source": [
        "#dictionary won't allow the duplicates?\n",
        "d1 = {\n",
        "    \"name\":\"shah\",\n",
        "    \"age\": 29,\n",
        "    \"mobile\": 9876543210,\n",
        "    \"bike\" : \"RE\",\n",
        "    \"education\": \"B.tech\",\n",
        "    \"education\": \"masters\"\n",
        "}\n",
        "print(len(d1))\n",
        "print(type(d1))\n",
        "print(d1)"
      ],
      "metadata": {
        "colab": {
          "base_uri": "https://localhost:8080/"
        },
        "id": "a98lp3sbGeyX",
        "outputId": "c671fc57-5d0e-4a17-997a-aaa4129f8c45"
      },
      "execution_count": 64,
      "outputs": [
        {
          "output_type": "stream",
          "name": "stdout",
          "text": [
            "5\n",
            "<class 'dict'>\n",
            "{'name': 'shah', 'age': 29, 'mobile': 9876543210, 'bike': 'RE', 'education': 'masters'}\n"
          ]
        }
      ]
    },
    {
      "cell_type": "markdown",
      "source": [
        "**dictionary is unordered**\n"
      ],
      "metadata": {
        "id": "XIQ7Y5RQGiCD"
      }
    },
    {
      "cell_type": "code",
      "source": [
        "d1 = {\n",
        "    \"name\":\"shah\",\n",
        "    \"age\": 29,\n",
        "    \"mobile\": 9876543210,\n",
        "    \"bike\" : \"RE\",\n",
        "    \"education\": \"B.tech\",\n",
        "    \"education\": \"masters\"\n",
        "}\n",
        "print(d1[1])  #key error"
      ],
      "metadata": {
        "colab": {
          "base_uri": "https://localhost:8080/",
          "height": 176
        },
        "id": "Caz6esCnGjPd",
        "outputId": "4f950de0-c028-44f0-d738-07de856acfab"
      },
      "execution_count": 65,
      "outputs": [
        {
          "output_type": "error",
          "ename": "KeyError",
          "evalue": "1",
          "traceback": [
            "\u001b[0;31m---------------------------------------------------------------------------\u001b[0m",
            "\u001b[0;31mKeyError\u001b[0m                                  Traceback (most recent call last)",
            "\u001b[0;32m<ipython-input-65-8a1f7db5f3e5>\u001b[0m in \u001b[0;36m<cell line: 0>\u001b[0;34m()\u001b[0m\n\u001b[1;32m      7\u001b[0m     \u001b[0;34m\"education\"\u001b[0m\u001b[0;34m:\u001b[0m \u001b[0;34m\"masters\"\u001b[0m\u001b[0;34m\u001b[0m\u001b[0;34m\u001b[0m\u001b[0m\n\u001b[1;32m      8\u001b[0m }\n\u001b[0;32m----> 9\u001b[0;31m \u001b[0mprint\u001b[0m\u001b[0;34m(\u001b[0m\u001b[0md1\u001b[0m\u001b[0;34m[\u001b[0m\u001b[0;36m1\u001b[0m\u001b[0;34m]\u001b[0m\u001b[0;34m)\u001b[0m  \u001b[0;31m#key error\u001b[0m\u001b[0;34m\u001b[0m\u001b[0;34m\u001b[0m\u001b[0m\n\u001b[0m",
            "\u001b[0;31mKeyError\u001b[0m: 1"
          ]
        }
      ]
    },
    {
      "cell_type": "code",
      "source": [
        "#how can we access the values from dictionary\n",
        "#by using key name\n",
        "print(d1['bike'])\n",
        "#we cannot access the range of keys"
      ],
      "metadata": {
        "colab": {
          "base_uri": "https://localhost:8080/"
        },
        "id": "IllBmfNHGpcx",
        "outputId": "82be981b-ecf6-4c04-cc1d-f4dc87ebdcc3"
      },
      "execution_count": 66,
      "outputs": [
        {
          "output_type": "stream",
          "name": "stdout",
          "text": [
            "RE\n"
          ]
        }
      ]
    },
    {
      "cell_type": "markdown",
      "source": [
        "**dictionary is mutable**"
      ],
      "metadata": {
        "id": "JRpt7GmDGtHB"
      }
    },
    {
      "cell_type": "code",
      "source": [
        "#1.replace the items in dictionar\n",
        "d1['name'] = \"shahul\"\n",
        "print(d1)"
      ],
      "metadata": {
        "colab": {
          "base_uri": "https://localhost:8080/"
        },
        "id": "3hNthToyGurb",
        "outputId": "ce44ce59-4465-461d-deca-a570ba5bb9a4"
      },
      "execution_count": 67,
      "outputs": [
        {
          "output_type": "stream",
          "name": "stdout",
          "text": [
            "{'name': 'shahul', 'age': 29, 'mobile': 9876543210, 'bike': 'RE', 'education': 'masters'}\n"
          ]
        }
      ]
    },
    {
      "cell_type": "code",
      "source": [
        "d1['mobile'] = 9803287467\n",
        "d1"
      ],
      "metadata": {
        "colab": {
          "base_uri": "https://localhost:8080/"
        },
        "id": "AzVAIY4jG0ws",
        "outputId": "f1a9f090-66d5-49f1-fd2c-9babf7e67077"
      },
      "execution_count": 68,
      "outputs": [
        {
          "output_type": "execute_result",
          "data": {
            "text/plain": [
              "{'name': 'shahul',\n",
              " 'age': 29,\n",
              " 'mobile': 9803287467,\n",
              " 'bike': 'RE',\n",
              " 'education': 'masters'}"
            ]
          },
          "metadata": {},
          "execution_count": 68
        }
      ]
    },
    {
      "cell_type": "code",
      "source": [
        "#remove the items from d1\n",
        "print(dir(d1))"
      ],
      "metadata": {
        "colab": {
          "base_uri": "https://localhost:8080/"
        },
        "id": "jEdKR_tRG4s-",
        "outputId": "d4f361a2-12ce-4808-d6ac-0a187d6cd3b4"
      },
      "execution_count": 69,
      "outputs": [
        {
          "output_type": "stream",
          "name": "stdout",
          "text": [
            "['__class__', '__class_getitem__', '__contains__', '__delattr__', '__delitem__', '__dir__', '__doc__', '__eq__', '__format__', '__ge__', '__getattribute__', '__getitem__', '__getstate__', '__gt__', '__hash__', '__init__', '__init_subclass__', '__ior__', '__iter__', '__le__', '__len__', '__lt__', '__ne__', '__new__', '__or__', '__reduce__', '__reduce_ex__', '__repr__', '__reversed__', '__ror__', '__setattr__', '__setitem__', '__sizeof__', '__str__', '__subclasshook__', 'clear', 'copy', 'fromkeys', 'get', 'items', 'keys', 'pop', 'popitem', 'setdefault', 'update', 'values']\n"
          ]
        }
      ]
    },
    {
      "cell_type": "code",
      "source": [
        "#pop(key_name)\n",
        "d1.pop('age')"
      ],
      "metadata": {
        "colab": {
          "base_uri": "https://localhost:8080/"
        },
        "id": "nBu2Gg3zG8Dc",
        "outputId": "734fb55d-13fe-4561-de7b-bee39cc0fcc0"
      },
      "execution_count": 70,
      "outputs": [
        {
          "output_type": "execute_result",
          "data": {
            "text/plain": [
              "29"
            ]
          },
          "metadata": {},
          "execution_count": 70
        }
      ]
    },
    {
      "cell_type": "code",
      "source": [
        "#clear\n",
        "d1.clear()\n",
        "d1"
      ],
      "metadata": {
        "colab": {
          "base_uri": "https://localhost:8080/"
        },
        "id": "Ib-i0_ZBHAPS",
        "outputId": "b96da878-b22c-4090-df5b-f6040b32bad3"
      },
      "execution_count": 71,
      "outputs": [
        {
          "output_type": "execute_result",
          "data": {
            "text/plain": [
              "{}"
            ]
          },
          "metadata": {},
          "execution_count": 71
        }
      ]
    },
    {
      "cell_type": "code",
      "source": [
        "del d1\n",
        "d1"
      ],
      "metadata": {
        "colab": {
          "base_uri": "https://localhost:8080/",
          "height": 158
        },
        "id": "BTIyLmXLHDvk",
        "outputId": "1c00599a-e574-4ee4-ac14-41fa7fcd5a90"
      },
      "execution_count": 72,
      "outputs": [
        {
          "output_type": "error",
          "ename": "NameError",
          "evalue": "name 'd1' is not defined",
          "traceback": [
            "\u001b[0;31m---------------------------------------------------------------------------\u001b[0m",
            "\u001b[0;31mNameError\u001b[0m                                 Traceback (most recent call last)",
            "\u001b[0;32m<ipython-input-72-8a1cb67cb563>\u001b[0m in \u001b[0;36m<cell line: 0>\u001b[0;34m()\u001b[0m\n\u001b[1;32m      1\u001b[0m \u001b[0;32mdel\u001b[0m \u001b[0md1\u001b[0m\u001b[0;34m\u001b[0m\u001b[0;34m\u001b[0m\u001b[0m\n\u001b[0;32m----> 2\u001b[0;31m \u001b[0md1\u001b[0m\u001b[0;34m\u001b[0m\u001b[0;34m\u001b[0m\u001b[0m\n\u001b[0m",
            "\u001b[0;31mNameError\u001b[0m: name 'd1' is not defined"
          ]
        }
      ]
    },
    {
      "cell_type": "code",
      "source": [
        "d2 = {'name': 'shahul',\n",
        " 'mobile': 9803287467,\n",
        " 'bike': 'RE',\n",
        " 'education': 'masters',\n",
        " 'address': 'Hyderabad'}\n",
        " #from dictionary print only the keys\n",
        "\n",
        "print(d2.keys())\n",
        "print(d2.values())\n",
        "print(d2.items())"
      ],
      "metadata": {
        "colab": {
          "base_uri": "https://localhost:8080/"
        },
        "id": "Dj1kRy3VHIdu",
        "outputId": "dfb546f7-50e5-4a24-c8fd-9a46319fd617"
      },
      "execution_count": 73,
      "outputs": [
        {
          "output_type": "stream",
          "name": "stdout",
          "text": [
            "dict_keys(['name', 'mobile', 'bike', 'education', 'address'])\n",
            "dict_values(['shahul', 9803287467, 'RE', 'masters', 'Hyderabad'])\n",
            "dict_items([('name', 'shahul'), ('mobile', 9803287467), ('bike', 'RE'), ('education', 'masters'), ('address', 'Hyderabad')])\n"
          ]
        }
      ]
    },
    {
      "cell_type": "code",
      "source": [
        "d2 = {'name': 'shahul',\n",
        " 'mobile': 9803287467,\n",
        " 'bike': 'RE',\n",
        "'fruits':[\"mango\",\"apple\",\"kiwi\"]\n",
        "}\n",
        "#replace \"kiwi\" with watermelon\n",
        "d2['fruits'][2] = \"watermelon\"\n",
        "d2"
      ],
      "metadata": {
        "colab": {
          "base_uri": "https://localhost:8080/"
        },
        "id": "5Sx9RP7GHMmC",
        "outputId": "9fa2b5f1-7105-4a75-d14d-e44526fa7ea7"
      },
      "execution_count": 74,
      "outputs": [
        {
          "output_type": "execute_result",
          "data": {
            "text/plain": [
              "{'name': 'shahul',\n",
              " 'mobile': 9803287467,\n",
              " 'bike': 'RE',\n",
              " 'fruits': ['mango', 'apple', 'watermelon']}"
            ]
          },
          "metadata": {},
          "execution_count": 74
        }
      ]
    },
    {
      "cell_type": "code",
      "source": [
        "#remove apple and watermelone\n",
        "d2['fruits'].remove('apple')\n",
        "d2"
      ],
      "metadata": {
        "colab": {
          "base_uri": "https://localhost:8080/"
        },
        "id": "rCcKJyOaHPzJ",
        "outputId": "fa393782-1b20-4ee6-b0f0-e87674a73b6a"
      },
      "execution_count": 75,
      "outputs": [
        {
          "output_type": "execute_result",
          "data": {
            "text/plain": [
              "{'name': 'shahul',\n",
              " 'mobile': 9803287467,\n",
              " 'bike': 'RE',\n",
              " 'fruits': ['mango', 'watermelon']}"
            ]
          },
          "metadata": {},
          "execution_count": 75
        }
      ]
    },
    {
      "cell_type": "code",
      "source": [
        "d2['fruits'].pop(1)\n",
        "d2"
      ],
      "metadata": {
        "colab": {
          "base_uri": "https://localhost:8080/"
        },
        "id": "KcXHfTOCHTvT",
        "outputId": "aa283bdb-a6ba-4f92-b545-97c5dca6e763"
      },
      "execution_count": 76,
      "outputs": [
        {
          "output_type": "execute_result",
          "data": {
            "text/plain": [
              "{'name': 'shahul', 'mobile': 9803287467, 'bike': 'RE', 'fruits': ['mango']}"
            ]
          },
          "metadata": {},
          "execution_count": 76
        }
      ]
    },
    {
      "cell_type": "code",
      "source": [
        "d2.clear()\n",
        "d2"
      ],
      "metadata": {
        "colab": {
          "base_uri": "https://localhost:8080/"
        },
        "id": "B90rOwD0HWfm",
        "outputId": "1bb2f3b2-8860-4e82-e606-94360202b671"
      },
      "execution_count": 77,
      "outputs": [
        {
          "output_type": "execute_result",
          "data": {
            "text/plain": [
              "{}"
            ]
          },
          "metadata": {},
          "execution_count": 77
        }
      ]
    },
    {
      "cell_type": "code",
      "source": [
        "del d2\n",
        "d2"
      ],
      "metadata": {
        "colab": {
          "base_uri": "https://localhost:8080/",
          "height": 158
        },
        "id": "6OuSgFPWHb8D",
        "outputId": "c31cd5c0-2a81-4217-8b6b-1940213d3d08"
      },
      "execution_count": 78,
      "outputs": [
        {
          "output_type": "error",
          "ename": "NameError",
          "evalue": "name 'd2' is not defined",
          "traceback": [
            "\u001b[0;31m---------------------------------------------------------------------------\u001b[0m",
            "\u001b[0;31mNameError\u001b[0m                                 Traceback (most recent call last)",
            "\u001b[0;32m<ipython-input-78-358623893e20>\u001b[0m in \u001b[0;36m<cell line: 0>\u001b[0;34m()\u001b[0m\n\u001b[1;32m      1\u001b[0m \u001b[0;32mdel\u001b[0m \u001b[0md2\u001b[0m\u001b[0;34m\u001b[0m\u001b[0;34m\u001b[0m\u001b[0m\n\u001b[0;32m----> 2\u001b[0;31m \u001b[0md2\u001b[0m\u001b[0;34m\u001b[0m\u001b[0;34m\u001b[0m\u001b[0m\n\u001b[0m",
            "\u001b[0;31mNameError\u001b[0m: name 'd2' is not defined"
          ]
        }
      ]
    },
    {
      "cell_type": "code",
      "source": [
        "\"\"\"list:- is a ordered, muttable, allows the duplicates-->[]\n",
        "                  adding methods:- append, insert(index, itemname),extend\n",
        "                  remove method :- pop(),remove, del l[:],clear\n",
        "   tuple:- is  ordered, immutable, allows the duplicates-->()\n",
        "   set :-->  is unordered, immutable, doesn't allow duplicates---> {}\n",
        "                           adding method:- add, update\n",
        "                           remove methods:- remove,discard,pop(bad practice),clear\n",
        "   dictionary--> unordered, mutable, it wont allow the duplicates\n",
        "              -->  key:value pairs\n",
        "              -->  replace by using specific key name we can replace the items in the dictionary\n",
        "              -->  adding items if you give new key name d1['new_key] = \"value\"\n",
        "              -->  remove method:- pop(key_name), clear,popitem()\"\"\""
      ],
      "metadata": {
        "colab": {
          "base_uri": "https://localhost:8080/",
          "height": 105
        },
        "id": "6iBxXhNiHg16",
        "outputId": "00c5668c-8626-4dac-9f5c-df438174e4c4"
      },
      "execution_count": 79,
      "outputs": [
        {
          "output_type": "execute_result",
          "data": {
            "text/plain": [
              "'list:- is a ordered, muttable, allows the duplicates-->[]\\n                  adding methods:- append, insert(index, itemname),extend\\n                  remove method :- pop(),remove, del l[:],clear\\n   tuple:- is  ordered, immutable, allows the duplicates-->()\\n   set :-->  is unordered, immutable, doesn\\'t allow duplicates---> {}\\n                           adding method:- add, update\\n                           remove methods:- remove,discard,pop(bad practice),clear\\n   dictionary--> unordered, mutable, it wont allow the duplicates\\n              -->  key:value pairs\\n              -->  replace by using specific key name we can replace the items in the dictionary\\n              -->  adding items if you give new key name d1[\\'new_key] = \"value\"\\n              -->  remove method:- pop(key_name), clear,popitem()'"
            ],
            "application/vnd.google.colaboratory.intrinsic+json": {
              "type": "string"
            }
          },
          "metadata": {},
          "execution_count": 79
        }
      ]
    },
    {
      "cell_type": "code",
      "source": [
        "d2 = {'name': 'shahul',\n",
        " 'mobile': 9803287467,\n",
        " 'bike': 'RE',\n",
        "'fruits':[\"mango\",\"apple\",\"kiwi\"]\n",
        "}\n",
        "d2.popitem()\n",
        "print(d2)"
      ],
      "metadata": {
        "colab": {
          "base_uri": "https://localhost:8080/"
        },
        "id": "2JdB4aBHHlBU",
        "outputId": "bd523c2e-3e9a-497b-f8e9-c16b1c23459f"
      },
      "execution_count": 80,
      "outputs": [
        {
          "output_type": "stream",
          "name": "stdout",
          "text": [
            "{'name': 'shahul', 'mobile': 9803287467, 'bike': 'RE'}\n"
          ]
        }
      ]
    },
    {
      "cell_type": "markdown",
      "source": [
        "#Functions\n"
      ],
      "metadata": {
        "id": "1dA0aavaHo0w"
      }
    },
    {
      "cell_type": "code",
      "source": [
        "#what is a function?\n",
        "#function is a block of code which can be executed when you call it\n",
        "#what is purpose of the functions?\n",
        "#To avoid the duplicate codes"
      ],
      "metadata": {
        "id": "tLFQORHgHp5Y"
      },
      "execution_count": 81,
      "outputs": []
    },
    {
      "cell_type": "code",
      "source": [
        "#How to create a function?\n",
        "#to create a function we use \"def\"-->means your defining a function\n",
        "def f1():\n",
        "  print(\"Hello i am defining a function to test it\")\n",
        "#How to call the function\n",
        "f1()"
      ],
      "metadata": {
        "colab": {
          "base_uri": "https://localhost:8080/"
        },
        "id": "jleahLKWHv6W",
        "outputId": "5083ce35-4348-482d-fe51-099810cf0d5d"
      },
      "execution_count": 82,
      "outputs": [
        {
          "output_type": "stream",
          "name": "stdout",
          "text": [
            "Hello i am defining a function to test it\n"
          ]
        }
      ]
    },
    {
      "cell_type": "code",
      "source": [
        "a = \"hello world\"\n",
        "print(a.replace('world','universe'))"
      ],
      "metadata": {
        "colab": {
          "base_uri": "https://localhost:8080/"
        },
        "id": "JoW60IFTHznc",
        "outputId": "013fefc5-b980-470a-c526-f8c64193f12f"
      },
      "execution_count": 83,
      "outputs": [
        {
          "output_type": "stream",
          "name": "stdout",
          "text": [
            "hello universe\n"
          ]
        }
      ]
    },
    {
      "cell_type": "code",
      "source": [
        "def shah(name,age,education):\n",
        "  print(f'Hi {name}, please check your details, age {age}, education {education}')\n",
        "\n",
        "shah(\"shahul\",28,\"ms\")"
      ],
      "metadata": {
        "colab": {
          "base_uri": "https://localhost:8080/"
        },
        "id": "IYp8ozfwH4b0",
        "outputId": "3ea28f64-c630-4b23-97c0-07e61a941f69"
      },
      "execution_count": 84,
      "outputs": [
        {
          "output_type": "stream",
          "name": "stdout",
          "text": [
            "Hi shahul, please check your details, age 28, education ms\n"
          ]
        }
      ]
    },
    {
      "cell_type": "code",
      "source": [
        "#what is a parameter?\n",
        "#when we are defining a funtion we are creating varaibes which are known as parameters\n",
        "#what is an argument?\n",
        "#when your calling a function your passing some values which are known as arguments\n",
        "#Note:- when you are calling a function No. of parameters == No of arguments,\n",
        "#if there is mismatch error will occurs"
      ],
      "metadata": {
        "id": "WqU5LKTHH9Gl"
      },
      "execution_count": 85,
      "outputs": []
    },
    {
      "cell_type": "code",
      "source": [
        "de9\n",
        "f check_number(num):\n",
        "  if num%2==0:\n",
        "    print(f'given number {num} is even')\n",
        "  else:\n",
        "    print(f'given number {num} is odd')\n",
        "a = int(input(\"enter the number\"))\n",
        "check_number(a)"
      ],
      "metadata": {
        "colab": {
          "base_uri": "https://localhost:8080/"
        },
        "id": "6fS4okwNIAso",
        "outputId": "0c676e56-da30-493b-a605-ac0203dc5740"
      },
      "execution_count": 86,
      "outputs": [
        {
          "output_type": "stream",
          "name": "stdout",
          "text": [
            "enter the number9\n",
            "given number 9 is odd\n"
          ]
        }
      ]
    },
    {
      "cell_type": "code",
      "source": [
        "#CHECK THE GIVEN number is +ve or -ve or neutral\n",
        "def pos_neg_neu(num = 0):\n",
        "  if num>0:\n",
        "    print(\"+ve\")\n",
        "  elif num == 0:\n",
        "    print(\"neu\")\n",
        "  else:\n",
        "    print(\"-ve\")\n",
        "\n",
        "a = int(input(\"enter the number: \"))\n",
        "pos_neg_neu(a)"
      ],
      "metadata": {
        "colab": {
          "base_uri": "https://localhost:8080/"
        },
        "id": "3XkMsMZyIIt8",
        "outputId": "86864371-c8b2-4a50-ee78-4770eb37e80a"
      },
      "execution_count": 87,
      "outputs": [
        {
          "output_type": "stream",
          "name": "stdout",
          "text": [
            "enter the number: 100\n",
            "+ve\n"
          ]
        }
      ]
    },
    {
      "cell_type": "code",
      "source": [
        "#default function\n",
        "#ARGS & KWARGS\n",
        "#TESTCASES-->5\n",
        "#LC,"
      ],
      "metadata": {
        "id": "8CCZbV-GIOnP"
      },
      "execution_count": 88,
      "outputs": []
    },
    {
      "cell_type": "markdown",
      "source": [
        "**Default Function**\n"
      ],
      "metadata": {
        "id": "eKMGPPPyISt2"
      }
    },
    {
      "cell_type": "code",
      "source": [
        "#what is a default function?\n",
        "def f1(x=\"No argument given\"):\n",
        "  print(x)\n",
        "f1()\n",
        "\"\"\"when you are defining the function we are creating varaibles which are known as\n",
        "parameters. so, to this parameters we are assigning a value from this when you call a function\n",
        "without passing an argument it excutes the function with default value we have given\"\"\""
      ],
      "metadata": {
        "colab": {
          "base_uri": "https://localhost:8080/",
          "height": 70
        },
        "id": "M-nTOnVMIUGh",
        "outputId": "1d8a050b-42fd-4cbd-9362-2456c7eb2788"
      },
      "execution_count": 89,
      "outputs": [
        {
          "output_type": "stream",
          "name": "stdout",
          "text": [
            "No argument given\n"
          ]
        },
        {
          "output_type": "execute_result",
          "data": {
            "text/plain": [
              "'when you are defining the function we are creating varaibles which are known as\\nparameters. so, to this parameters we are assigning a value from this when you call a function\\nwithout passing an argument it excutes the function with default value we have given'"
            ],
            "application/vnd.google.colaboratory.intrinsic+json": {
              "type": "string"
            }
          },
          "metadata": {},
          "execution_count": 89
        }
      ]
    },
    {
      "cell_type": "code",
      "source": [
        "#what can i do when i dont know how many parameters do we need to pass?\n",
        "def details(**name):\n",
        "  print(name)\n",
        "\n",
        "details(name=\"zenvius\", Type = \"pvt ltd\", work = 'IT Training and staffing',place= 'hyderabad')"
      ],
      "metadata": {
        "colab": {
          "base_uri": "https://localhost:8080/"
        },
        "id": "8m2trSkDIbcB",
        "outputId": "ff13d308-6162-465f-d375-644f684e5e28"
      },
      "execution_count": 90,
      "outputs": [
        {
          "output_type": "stream",
          "name": "stdout",
          "text": [
            "{'name': 'zenvius', 'Type': 'pvt ltd', 'work': 'IT Training and staffing', 'place': 'hyderabad'}\n"
          ]
        }
      ]
    },
    {
      "cell_type": "code",
      "source": [
        "##what can i do when i dont know how many Arguments do we need to pass?\n",
        "def prog_language(*name):\n",
        "  print(name)\n",
        "prog_language('python','java','c++')\n",
        "prog_language('python,java','c++','c','.net')"
      ],
      "metadata": {
        "colab": {
          "base_uri": "https://localhost:8080/"
        },
        "id": "D-1TFMHXIfYl",
        "outputId": "47fe6dfc-d965-400a-f70b-5a43ae429cbf"
      },
      "execution_count": 91,
      "outputs": [
        {
          "output_type": "stream",
          "name": "stdout",
          "text": [
            "('python', 'java', 'c++')\n",
            "('python,java', 'c++', 'c', '.net')\n"
          ]
        }
      ]
    },
    {
      "cell_type": "code",
      "source": [
        "\"\"\" **--> KWARGS--> Keyword arbitraray arguments-->when we dont know how many parameters do we\n",
        "                                                   need to pass use KWARGS\n",
        "                                                -->we can able set what of data we are passing BCZ\n",
        "                                                   by default the data is stored on the form of \"dictionary\"\n",
        "    *--> ARGS---> Arbitrary arguments-->when we dont know how many parameters do we\n",
        "                                        need to pass use ARGS\n",
        "                                      --> default data type for ARGS is Tuple \"\"\""
      ],
      "metadata": {
        "colab": {
          "base_uri": "https://localhost:8080/",
          "height": 88
        },
        "id": "H5pyt-hqIkfH",
        "outputId": "f54b8cd9-0c26-4923-f94c-cc8012ff3cfa"
      },
      "execution_count": 92,
      "outputs": [
        {
          "output_type": "execute_result",
          "data": {
            "text/plain": [
              "' **--> KWARGS--> Keyword arbitraray arguments-->when we dont know how many parameters do we\\n                                                   need to pass use KWARGS\\n                                                -->we can able set what of data we are passing BCZ\\n                                                   by default the data is stored on the form of \"dictionary\"\\n    *--> ARGS---> Arbitrary arguments-->when we dont know how many parameters do we\\n                                        need to pass use ARGS\\n                                      --> default data type for ARGS is Tuple '"
            ],
            "application/vnd.google.colaboratory.intrinsic+json": {
              "type": "string"
            }
          },
          "metadata": {},
          "execution_count": 92
        }
      ]
    },
    {
      "cell_type": "markdown",
      "source": [
        "#Return\n"
      ],
      "metadata": {
        "id": "I3Tft39mIozD"
      }
    },
    {
      "cell_type": "code",
      "source": [
        "#what is return?\n",
        "# return keyword  returns or send back the values to the caller\n",
        "# it is similiar to the print statement\n",
        "# when you are using the return we need to call the function with print()"
      ],
      "metadata": {
        "id": "6fbJphDwIqYD"
      },
      "execution_count": 93,
      "outputs": []
    },
    {
      "cell_type": "code",
      "source": [
        "def f1():\n",
        "  return \"hello\"\n",
        "print(f1())"
      ],
      "metadata": {
        "colab": {
          "base_uri": "https://localhost:8080/"
        },
        "id": "yqUUSFnzIvqg",
        "outputId": "db3cf72e-7a6e-4a9c-a3c4-bdc825f593b6"
      },
      "execution_count": 94,
      "outputs": [
        {
          "output_type": "stream",
          "name": "stdout",
          "text": [
            "hello\n"
          ]
        }
      ]
    },
    {
      "cell_type": "code",
      "source": [
        "#write a python function to summ all the item in a list?\n",
        "list = [10,20,30,40]\n",
        "#output = 20\n",
        "sum = 0\n",
        "for i in list:\n",
        "  sum = sum + i\n",
        "print(sum)"
      ],
      "metadata": {
        "colab": {
          "base_uri": "https://localhost:8080/"
        },
        "id": "JU6w9Vr6Iy_m",
        "outputId": "11bd85a4-3589-493f-f3f1-fb42ecc0a37f"
      },
      "execution_count": 95,
      "outputs": [
        {
          "output_type": "stream",
          "name": "stdout",
          "text": [
            "100\n"
          ]
        }
      ]
    },
    {
      "cell_type": "code",
      "source": [
        "def sum_items(*number):\n",
        "  sum = 0\n",
        "  for i in list:\n",
        "    sum = sum + i\n",
        "  return(sum)\n",
        "print(sum_items(8,9,10,30))"
      ],
      "metadata": {
        "colab": {
          "base_uri": "https://localhost:8080/"
        },
        "id": "BqFa8Dm-I27O",
        "outputId": "180cf34a-b74c-4f22-99a7-2b6cc5762224"
      },
      "execution_count": 96,
      "outputs": [
        {
          "output_type": "stream",
          "name": "stdout",
          "text": [
            "100\n"
          ]
        }
      ]
    },
    {
      "cell_type": "code",
      "source": [
        "#write a python function that takes a list and returns a distinct values in new list\n",
        "l1 =[1,2,3,3,4,5,6,1,2,3,4,9]\n",
        "x = []\n",
        "for i in l1:\n",
        "  if i not in x:\n",
        "    x.append(i)\n",
        "print(x)\n",
        "print(set(l1))"
      ],
      "metadata": {
        "colab": {
          "base_uri": "https://localhost:8080/"
        },
        "id": "3IfdO5dPI7th",
        "outputId": "0f4b4d30-286e-470a-a97e-f055d8f9a821"
      },
      "execution_count": 97,
      "outputs": [
        {
          "output_type": "stream",
          "name": "stdout",
          "text": [
            "[1, 2, 3, 4, 5, 6, 9]\n",
            "{1, 2, 3, 4, 5, 6, 9}\n"
          ]
        }
      ]
    },
    {
      "cell_type": "code",
      "source": [
        "def distinct(*l1):\n",
        "  x = []\n",
        "  for i in l1:\n",
        "    if i not in x:\n",
        "      x.append(i)\n",
        "  return x\n",
        "print(distinct(98,97,96,95,94,94,93,93,97))"
      ],
      "metadata": {
        "colab": {
          "base_uri": "https://localhost:8080/"
        },
        "id": "rrg7erBpI_dJ",
        "outputId": "9947141a-a386-4cb3-cbc6-d0d29c8fee73"
      },
      "execution_count": 98,
      "outputs": [
        {
          "output_type": "stream",
          "name": "stdout",
          "text": [
            "[98, 97, 96, 95, 94, 93]\n"
          ]
        }
      ]
    },
    {
      "cell_type": "code",
      "source": [
        "def distinct(*l1):\n",
        "  x = []\n",
        "  for i in l1:\n",
        "    if i not in x:\n",
        "      x.append(i)\n",
        "  print(x)\n",
        "distinct(98,97,96,95,94,94,93,93,97)"
      ],
      "metadata": {
        "colab": {
          "base_uri": "https://localhost:8080/"
        },
        "id": "5-528x4BJDWq",
        "outputId": "4cc55f51-bd68-428a-80e0-ee00b43bb0e5"
      },
      "execution_count": 99,
      "outputs": [
        {
          "output_type": "stream",
          "name": "stdout",
          "text": [
            "[98, 97, 96, 95, 94, 93]\n"
          ]
        }
      ]
    },
    {
      "cell_type": "code",
      "source": [
        "num = int(input(\"enter the number: \"))\n",
        "if num%2==0:\n",
        "    print(f'given number {num} is even')\n",
        "else:\n",
        "    print(f'given number {num} is odd')"
      ],
      "metadata": {
        "colab": {
          "base_uri": "https://localhost:8080/"
        },
        "id": "6m2HUoKrJHLw",
        "outputId": "30b60c16-9154-4dc2-d0c9-0e594d6f4bd9"
      },
      "execution_count": 100,
      "outputs": [
        {
          "output_type": "stream",
          "name": "stdout",
          "text": [
            "enter the number: 9\n",
            "given number 9 is odd\n"
          ]
        }
      ]
    },
    {
      "cell_type": "code",
      "source": [
        "b = int(input())\n",
        "check_number(b)"
      ],
      "metadata": {
        "colab": {
          "base_uri": "https://localhost:8080/"
        },
        "id": "xihFeSmgJMkF",
        "outputId": "d634a8ab-d748-4274-9c17-8e4d35b0b42e"
      },
      "execution_count": 101,
      "outputs": [
        {
          "output_type": "stream",
          "name": "stdout",
          "text": [
            "9\n",
            "given number 9 is odd\n"
          ]
        }
      ]
    }
  ]
}